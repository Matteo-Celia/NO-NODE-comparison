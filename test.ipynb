{
 "cells": [
  {
   "cell_type": "code",
   "execution_count": 1,
   "id": "e6301817",
   "metadata": {},
   "outputs": [],
   "source": [
    "import wandb\n",
    "from pathlib import Path\n",
    "import torch\n",
    "import numpy as np\n",
    "from plotting import *"
   ]
  },
  {
   "cell_type": "code",
   "execution_count": null,
   "id": "d3a4500b",
   "metadata": {},
   "outputs": [],
   "source": [
    "run = wandb.init(mode=\"disabled\") #job_type=\"download\","
   ]
  },
  {
   "cell_type": "code",
   "execution_count": null,
   "id": "f09c7cfa",
   "metadata": {},
   "outputs": [],
   "source": [
    "artifact = run.use_artifact('jet-tagging/Particle-Physics/charged_seed-2_n_part-5_n_inputs-1_varDT-False_num_timesteps-10:v1', type='results')\n",
    "artifact_dir = artifact.download()\n",
    "\n",
    "artifact_dir = next(iter(Path(artifact_dir).iterdir()))\n",
    "results = torch.load(artifact_dir, map_location=torch.device('cpu')) #, weight_only=False\n",
    "results"
   ]
  },
  {
   "cell_type": "code",
   "execution_count": 2,
   "id": "d8cd4138",
   "metadata": {},
   "outputs": [],
   "source": [
    "wandb.init(mode=\"disabled\")\n",
    "\n",
    "# Use read-only API\n",
    "api = wandb.Api()\n"
   ]
  },
  {
   "cell_type": "code",
   "execution_count": null,
   "id": "b02c7ec2",
   "metadata": {},
   "outputs": [],
   "source": [
    "# Get the artifact directly by full name\n",
    "artifact = api.artifact(\n",
    "    'jet-tagging/Particle-Physics/charged_seed-2_n_part-5_n_inputs-1_varDT-False_num_timesteps-10:v1',\n",
    "    type='results'\n",
    ")\n",
    "\n",
    "# Download the artifact\n",
    "artifact_dir = artifact.download()\n",
    "\n",
    "# Get the first file/subdir inside the artifact directory\n",
    "artifact_dir = next(iter(Path(artifact_dir).iterdir()))\n",
    "\n",
    "# Load the torch object\n",
    "results = torch.load(artifact_dir, map_location=torch.device('cpu'))\n",
    "results"
   ]
  },
  {
   "cell_type": "code",
   "execution_count": 73,
   "id": "6ce23b12",
   "metadata": {},
   "outputs": [
    {
     "data": {
      "text/plain": [
       "torch.Size([10])"
      ]
     },
     "execution_count": 73,
     "metadata": {},
     "output_type": "execute_result"
    }
   ],
   "source": [
    "torch.mean((results[\"energies\"]) ** 2, dim=(0, 2)).shape"
   ]
  },
  {
   "cell_type": "markdown",
   "id": "71d4989f",
   "metadata": {},
   "source": [
    "Data(targets=[T, traj_len, N, 3],preds=[T, traj_len, N, 3],energy_conservation=[T, traj_len, 1], test_loss=FLOAT)"
   ]
  },
  {
   "cell_type": "code",
   "execution_count": 19,
   "id": "5c52332f",
   "metadata": {},
   "outputs": [
    {
     "data": {
      "text/plain": [
       "(torch.Size([2400000, 4]), torch.Size([2400000, 4]))"
      ]
     },
     "execution_count": 19,
     "metadata": {},
     "output_type": "execute_result"
    }
   ],
   "source": [
    "results['preds'].nonzero().shape, results['targets'].nonzero().shape"
   ]
  },
  {
   "cell_type": "code",
   "execution_count": 64,
   "id": "877a3443",
   "metadata": {},
   "outputs": [
    {
     "data": {
      "text/plain": [
       "(torch.Size([2000, 20, 1]), tensor(-3.3102), tensor(15.7346))"
      ]
     },
     "execution_count": 64,
     "metadata": {},
     "output_type": "execute_result"
    }
   ],
   "source": [
    "results['energy_conservation'].shape, results['energy_conservation'].mean(), results['energy_conservation'].std()"
   ]
  },
  {
   "cell_type": "markdown",
   "id": "a9131298",
   "metadata": {},
   "source": [
    "### Parameters configuration"
   ]
  },
  {
   "cell_type": "code",
   "execution_count": 3,
   "id": "77d96224",
   "metadata": {},
   "outputs": [
    {
     "data": {
      "text/plain": [
       "dict_items([('EGNO', 'v0'), ('SEGNO', 'v1')])"
      ]
     },
     "execution_count": 3,
     "metadata": {},
     "output_type": "execute_result"
    }
   ],
   "source": [
    "datasets = ['charged', 'gravity']\n",
    "models = {\n",
    "    'EGNO': 'v0',\n",
    "    'SEGNO': 'v1'\n",
    "}\n",
    "n_balls_values = [5, 10, 20]\n",
    "num_inputs_values = [1, 2, 3]\n",
    "num_timesteps_values = [10]\n",
    "seeds = [1, 2, 3]\n",
    "varDT_values = [False, True]\n",
    "colors = {'EGNO': 'purple', 'SEGNO': 'green'}\n",
    "models.items()"
   ]
  },
  {
   "cell_type": "code",
   "execution_count": null,
   "id": "cc253626",
   "metadata": {},
   "outputs": [],
   "source": [
    "#configuration = f'{dataset}_seed-{seed}_n_part-{n_balls}_n_inputs-{n_inputs}_varDT-{varDT}_num_timesteps-{num_timestep}:{models[model]}'"
   ]
  },
  {
   "cell_type": "markdown",
   "id": "b4baa753",
   "metadata": {},
   "source": [
    "### Plotting"
   ]
  },
  {
   "cell_type": "code",
   "execution_count": 36,
   "id": "5a9dd1f5",
   "metadata": {},
   "outputs": [],
   "source": [
    "from plotting import *\n",
    "import itertools"
   ]
  },
  {
   "cell_type": "code",
   "execution_count": null,
   "id": "19248ce2",
   "metadata": {},
   "outputs": [],
   "source": [
    "run = wandb.init()"
   ]
  },
  {
   "cell_type": "markdown",
   "id": "c63e1f35",
   "metadata": {},
   "source": [
    "print(f\"Running with: dataset={dataset}, model={model_name}, version={model_version}, \"\n",
    "          f\"n_balls={n_balls}, num_inputs={num_inputs}, num_timesteps={num_timesteps}, \"\n",
    "          f\"seed={seed}, varDT={varDT}\")"
   ]
  },
  {
   "cell_type": "code",
   "execution_count": null,
   "id": "32d781d7",
   "metadata": {},
   "outputs": [],
   "source": [
    "# Generate all combinations\n",
    "metric = 'MSE'\n",
    "configs = []\n",
    "baseline = False\n",
    "for dataset, n_balls, num_inputs, varDT, num_timesteps in itertools.product(\n",
    "    datasets, n_balls_values, num_inputs_values, varDT_values, num_timesteps_values):\n",
    "    for model_name, model_version in models.items():\n",
    "        config = {}\n",
    "        data_seeds = []\n",
    "        for seed in seeds:\n",
    "            \n",
    "            configuration = f'{dataset}_seed-{seed}_n_part-{n_balls}_n_inputs-{num_inputs}_varDT-{varDT}_num_timesteps-{num_timesteps}:{model_version}'\n",
    "            \n",
    "            artifact = api.artifact(f'jet-tagging/Particle-Physics/{configuration}', type='results')\n",
    "            artifact_dir = artifact.download()\n",
    "            artifact_dir = next(iter(Path(artifact_dir).iterdir()))\n",
    "            results = torch.load(artifact_dir, map_location=torch.device('cpu')) #, weight_only=False\n",
    "            #Data(targets=[T, traj_len, N, 3],preds=[T, traj_len, N, 3],energy_conservation=[T, traj_len, 1], test_loss=FLOAT)\n",
    "            print(f\"Results loaded for configuration: {configuration}\")\n",
    "            n_samples = results['preds'].shape[0]\n",
    "            T = results['preds'].shape[1]\n",
    "            N = results['preds'].shape[2]\n",
    "            D = results['preds'].shape[3]\n",
    "            preds = results['preds'].view(n_samples, T, N*D)  # Flatten the last two dimensions\n",
    "            targets = results['targets'].view(n_samples, T, N*D)\n",
    "            energy_conservation = results['energy_conservation'] if model_name == 'EGNO' else results['energies']\n",
    "\n",
    "            combined = np.stack([targets, preds], axis=0)  # shape: (2, #samples, traj_len, N, 3)\n",
    "            print(preds.shape, targets.shape, combined.shape)\n",
    "            data_seeds.append(combined)\n",
    "    \n",
    "        final_data = np.stack(data_seeds, axis=0)\n",
    "        print(f\"Final data shape: {final_data.shape}\")\n",
    "        config[\"model\"] = model_name\n",
    "        config[\"data\"] = torch.tensor(final_data)\n",
    "        config[\"num_timesteps\"] = num_timesteps\n",
    "        config[\"color\"] = colors[model_name]\n",
    "        config[\"label\"] = f'{dataset}_{model_name}_n_part-{n_balls}_n_inputs-{num_inputs}_varDT-{varDT}_num_timesteps-{num_timesteps}'\n",
    "        config[\"baseline\"] = baseline\n",
    "        configs.append(config)\n",
    "        \n",
    "    plot_multiple_curves_wandb(configs, plot_function_wandb, metric=metric, save=True, filename=f'{dataset}_plots/n_part-{n_balls}_n_inputs-{num_inputs}_varDT-{varDT}_num_timesteps-{num_timesteps}.png', run=run)"
   ]
  },
  {
   "cell_type": "markdown",
   "id": "9ae7fa3a",
   "metadata": {},
   "source": [
    "## Testing"
   ]
  },
  {
   "cell_type": "code",
   "execution_count": 77,
   "id": "1568c8f7",
   "metadata": {},
   "outputs": [
    {
     "name": "stdout",
     "output_type": "stream",
     "text": [
      "Model type: segno\n",
      "charged_seed-1_n_part-5_n_inputs-1_varDT-False_num_timesteps-10:v1 results v1 b7baa747a39e2a3a5fafca2cf328a75e\n"
     ]
    }
   ],
   "source": [
    "from wandb.apis.public import Run\n",
    "\n",
    "run = Run(\n",
    "    client=api.client,\n",
    "    entity=\"jet-tagging\",\n",
    "    project=\"Particle-Physics\",\n",
    "    run_id= '3w20dycu', # ITERATE IDs\n",
    "    include_sweeps = True,\n",
    ")\n",
    "model_type = run.config.get(\"model\")\n",
    "print(f\"Model type: {model_type}\")\n",
    "for art in run.logged_artifacts():\n",
    "    print(art.name, art.type, art.version, art.digest)\t"
   ]
  },
  {
   "cell_type": "code",
   "execution_count": 22,
   "id": "ba1731dc",
   "metadata": {},
   "outputs": [],
   "source": [
    "B, N, D = 4, 5, 6\n",
    "array1 = np.random.randn(B, N, D)\n",
    "array2 = np.random.randn(B, N, D)\n",
    "\n",
    "# Stack along a new first axis to get shape (2, B, N, D)\n",
    "combined = np.stack([array1, array2], axis=0)  # shape: (2, B, N, D)"
   ]
  },
  {
   "cell_type": "code",
   "execution_count": 23,
   "id": "27cf5537",
   "metadata": {},
   "outputs": [
    {
     "data": {
      "text/plain": [
       "(3, 2, 4, 5, 6)"
      ]
     },
     "execution_count": 23,
     "metadata": {},
     "output_type": "execute_result"
    }
   ],
   "source": [
    "combined1 = combined  # first one\n",
    "combined2 = np.stack([np.random.randn(B, N, D), np.random.randn(B, N, D)], axis=0)\n",
    "combined3 = np.stack([np.random.randn(B, N, D), np.random.randn(B, N, D)], axis=0)\n",
    "\n",
    "# Stack along a new first axis to get shape (3, 2, B, N, D)\n",
    "final_array = np.stack([combined1, combined2, combined3], axis=0)\n",
    "final_array.shape  # shape: (3, 2, B, N, D)"
   ]
  },
  {
   "cell_type": "code",
   "execution_count": null,
   "id": "7e650318",
   "metadata": {},
   "outputs": [
    {
     "name": "stderr",
     "output_type": "stream",
     "text": [
      "\u001b[34m\u001b[1mwandb\u001b[0m:   1 of 1 files downloaded.  \n"
     ]
    },
    {
     "name": "stdout",
     "output_type": "stream",
     "text": [
      "egno\n",
      "Results loaded for configuration: gravity_seed-1_n_part-5_n_inputs-1_varDT-False_num_timesteps-10:v0\n",
      "torch.Size([2000, 20, 1])\n",
      "torch.Size([2000, 20, 15]) torch.Size([2000, 20, 15]) (2, 2000, 20, 15)\n"
     ]
    },
    {
     "name": "stderr",
     "output_type": "stream",
     "text": [
      "C:\\Users\\Matteo Celia\\AppData\\Local\\Temp\\ipykernel_36220\\1116681363.py:18: FutureWarning: You are using `torch.load` with `weights_only=False` (the current default value), which uses the default pickle module implicitly. It is possible to construct malicious pickle data which will execute arbitrary code during unpickling (See https://github.com/pytorch/pytorch/blob/main/SECURITY.md#untrusted-models for more details). In a future release, the default value for `weights_only` will be flipped to `True`. This limits the functions that could be executed during unpickling. Arbitrary objects will no longer be allowed to be loaded via this mode unless they are explicitly allowlisted by the user via `torch.serialization.add_safe_globals`. We recommend you start setting `weights_only=True` for any use case where you don't have full control of the loaded file. Please open an issue on GitHub for any issues related to this experimental feature.\n",
      "  results = torch.load(artifact_dir, map_location=torch.device('cpu')) #, weight_only=False\n",
      "\u001b[34m\u001b[1mwandb\u001b[0m:   1 of 1 files downloaded.  \n"
     ]
    },
    {
     "name": "stdout",
     "output_type": "stream",
     "text": [
      "egno\n",
      "Results loaded for configuration: gravity_seed-2_n_part-5_n_inputs-1_varDT-False_num_timesteps-10:v0\n",
      "torch.Size([2000, 20, 1])\n",
      "torch.Size([2000, 20, 15]) torch.Size([2000, 20, 15]) (2, 2000, 20, 15)\n"
     ]
    },
    {
     "name": "stderr",
     "output_type": "stream",
     "text": [
      "\u001b[34m\u001b[1mwandb\u001b[0m:   1 of 1 files downloaded.  \n"
     ]
    },
    {
     "name": "stdout",
     "output_type": "stream",
     "text": [
      "egno\n",
      "Results loaded for configuration: gravity_seed-3_n_part-5_n_inputs-1_varDT-False_num_timesteps-10:v0\n",
      "torch.Size([2000, 20, 1])\n",
      "torch.Size([2000, 20, 15]) torch.Size([2000, 20, 15]) (2, 2000, 20, 15)\n",
      "Final data shape: (3, 2, 2000, 20, 15)\n"
     ]
    },
    {
     "name": "stderr",
     "output_type": "stream",
     "text": [
      "\u001b[34m\u001b[1mwandb\u001b[0m:   1 of 1 files downloaded.  \n"
     ]
    },
    {
     "name": "stdout",
     "output_type": "stream",
     "text": [
      "segno\n",
      "Results loaded for configuration: gravity_seed-1_n_part-5_n_inputs-1_varDT-False_num_timesteps-10:v1\n",
      "torch.Size([2000, 10, 1])\n",
      "torch.Size([2000, 10, 15]) torch.Size([2000, 10, 15]) (2, 2000, 10, 15)\n"
     ]
    },
    {
     "name": "stderr",
     "output_type": "stream",
     "text": [
      "\u001b[34m\u001b[1mwandb\u001b[0m:   1 of 1 files downloaded.  \n"
     ]
    },
    {
     "name": "stdout",
     "output_type": "stream",
     "text": [
      "segno\n",
      "Results loaded for configuration: gravity_seed-2_n_part-5_n_inputs-1_varDT-False_num_timesteps-10:v1\n",
      "torch.Size([2000, 10, 1])\n",
      "torch.Size([2000, 10, 15]) torch.Size([2000, 10, 15]) (2, 2000, 10, 15)\n"
     ]
    },
    {
     "name": "stderr",
     "output_type": "stream",
     "text": [
      "\u001b[34m\u001b[1mwandb\u001b[0m:   1 of 1 files downloaded.  \n"
     ]
    },
    {
     "name": "stdout",
     "output_type": "stream",
     "text": [
      "segno\n",
      "Results loaded for configuration: gravity_seed-3_n_part-5_n_inputs-1_varDT-False_num_timesteps-10:v1\n",
      "torch.Size([2000, 10, 1])\n",
      "torch.Size([2000, 10, 15]) torch.Size([2000, 10, 15]) (2, 2000, 10, 15)\n",
      "Final data shape: (3, 2, 2000, 10, 15)\n"
     ]
    }
   ],
   "source": [
    "configs = []\n",
    "dataset = 'gravity'\n",
    "metric = 'MSE'\n",
    "baselines = []\n",
    "for model_name, model_version in models.items():\n",
    "    config = {}\n",
    "    data_seeds = [] \n",
    "    for seed in seeds:\n",
    "        \n",
    "        configuration = f'{dataset}_seed-{seed}_n_part-5_n_inputs-1_varDT-False_num_timesteps-10:{model_version}'\n",
    "        \n",
    "        artifact = api.artifact(f'jet-tagging/Particle-Physics/{configuration}', type='results')\n",
    "        artifact_dir = artifact.download()\n",
    "        source_run = artifact.logged_by()\n",
    "        model_type = source_run.config.get(\"model\") \n",
    "        print(model_type)\n",
    "        artifact_dir = next(iter(Path(artifact_dir).iterdir()))\n",
    "        results = torch.load(artifact_dir, map_location=torch.device('cpu')) #, weight_only=False\n",
    "        #Data(targets=[T, traj_len, N, 3],preds=[T, traj_len, N, 3],energy_conservation=[T, traj_len, 1], test_loss=FLOAT)\n",
    "        print(f\"Results loaded for configuration: {configuration}\")\n",
    "        n_samples = results['preds'].shape[0]\n",
    "        T = results['preds'].shape[1]\n",
    "        N = results['preds'].shape[2]\n",
    "        D = results['preds'].shape[3]\n",
    "        preds = results['preds'].view(n_samples, T, N*D)  # Flatten the last two dimensions\n",
    "        targets = results['targets'].view(n_samples, T, N*D)\n",
    "        energy_conservation = results['energy_conservation'] if model_name == 'EGNO' else results['energies']\n",
    "        print(energy_conservation.shape)\n",
    "        combined = np.stack([targets, preds], axis=0)  # shape: (2, #samples, traj_len, N, 3)\n",
    "        print(preds.shape, targets.shape, combined.shape)\n",
    "        data_seeds.append(combined)\n",
    "\n",
    "    final_data = np.stack(data_seeds, axis=0)\n",
    "    print(f\"Final data shape: {final_data.shape}\")\n",
    "    config[\"model\"] = model_name\n",
    "    config[\"data\"] = torch.tensor(final_data)\n",
    "    config[\"num_timesteps\"] = 10\n",
    "    config[\"color\"] = colors[model_name]\n",
    "    config[\"label\"] = f'{dataset}_{model_name}_n_part-5_n_inputs-3_varDT-False_num_timesteps-10'\n",
    "    config[\"baseline\"] = True\n",
    "    configs.append(config)\n",
    "    baselines.append(config)"
   ]
  },
  {
   "cell_type": "code",
   "execution_count": 14,
   "id": "3d5a26d6",
   "metadata": {},
   "outputs": [
    {
     "name": "stderr",
     "output_type": "stream",
     "text": [
      "\u001b[34m\u001b[1mwandb\u001b[0m: \u001b[33mWARNING\u001b[0m A graphql request initiated by the public wandb API timed out (timeout=19 sec). Create a new API with an integer timeout larger than 19, e.g., `api = wandb.Api(timeout=29)` to increase the graphql timeout.\n",
      "\u001b[34m\u001b[1mwandb\u001b[0m:   1 of 1 files downloaded.  \n"
     ]
    },
    {
     "name": "stdout",
     "output_type": "stream",
     "text": [
      "egno\n",
      "Results loaded for configuration: gravity_seed-1_n_part-5_n_inputs-3_varDT-False_num_timesteps-10:v0\n",
      "torch.Size([2000, 20, 1])\n",
      "torch.Size([2000, 20, 15]) torch.Size([2000, 20, 15]) (2, 2000, 20, 15)\n",
      "0\n",
      "Final data shape: (1, 2, 2000, 20, 15)\n"
     ]
    },
    {
     "name": "stderr",
     "output_type": "stream",
     "text": [
      "C:\\Users\\Matteo Celia\\AppData\\Local\\Temp\\ipykernel_17312\\886206884.py:19: FutureWarning: You are using `torch.load` with `weights_only=False` (the current default value), which uses the default pickle module implicitly. It is possible to construct malicious pickle data which will execute arbitrary code during unpickling (See https://github.com/pytorch/pytorch/blob/main/SECURITY.md#untrusted-models for more details). In a future release, the default value for `weights_only` will be flipped to `True`. This limits the functions that could be executed during unpickling. Arbitrary objects will no longer be allowed to be loaded via this mode unless they are explicitly allowlisted by the user via `torch.serialization.add_safe_globals`. We recommend you start setting `weights_only=True` for any use case where you don't have full control of the loaded file. Please open an issue on GitHub for any issues related to this experimental feature.\n",
      "  results = torch.load(artifact_dir, map_location=torch.device('cpu')) #, weight_only=False\n",
      "\u001b[34m\u001b[1mwandb\u001b[0m:   1 of 1 files downloaded.  \n"
     ]
    },
    {
     "name": "stdout",
     "output_type": "stream",
     "text": [
      "segno\n",
      "Results loaded for configuration: gravity_seed-1_n_part-5_n_inputs-3_varDT-False_num_timesteps-10:v1\n",
      "torch.Size([2000, 10, 1])\n",
      "torch.Size([2000, 10, 15]) torch.Size([2000, 10, 15]) (2, 2000, 10, 15)\n",
      "0\n",
      "Final data shape: (1, 2, 2000, 10, 15)\n",
      "(1, 2, 2000, 20, 15)\n",
      "torch.Size([2, 2000, 20, 15])\n",
      "torch.Size([2000, 20, 15]) torch.Size([2000, 20, 15])\n",
      "(1, 2, 2000, 10, 15)\n",
      "torch.Size([2, 2000, 10, 15])\n",
      "torch.Size([2000, 10, 15]) torch.Size([2000, 10, 15])\n"
     ]
    },
    {
     "name": "stderr",
     "output_type": "stream",
     "text": [
      "c:\\Users\\Matteo Celia\\OneDrive\\Documenti\\GitHub\\NO-NODE-comparison\\plotting.py:422: UserWarning: std(): degrees of freedom is <= 0. Correction should be strictly less than the reduction factor (input numel divided by output numel). (Triggered internally at C:\\actions-runner\\_work\\pytorch\\pytorch\\builder\\windows\\pytorch\\aten\\src\\ATen\\native\\ReduceOps.cpp:1823.)\n",
      "  std_mse = torch.std(mse_losses, dim=0)    # Shape: (T,)\n",
      "c:\\Users\\Matteo Celia\\OneDrive\\Documenti\\GitHub\\NO-NODE-comparison\\plotting.py:568: UserWarning: std(): degrees of freedom is <= 0. Correction should be strictly less than the reduction factor (input numel divided by output numel). (Triggered internally at C:\\actions-runner\\_work\\pytorch\\pytorch\\builder\\windows\\pytorch\\aten\\src\\ATen\\native\\ReduceOps.cpp:1823.)\n",
      "  std_corr = torch.std(correlations, dim=0)    # Shape: (T,)\n"
     ]
    },
    {
     "data": {
      "image/png": "[encoded data removed]",
      "text/plain": [
       "<Figure size 1000x600 with 1 Axes>"
      ]
     },
     "metadata": {},
     "output_type": "display_data"
    }
   ],
   "source": [
    "configs = []\n",
    "dataset = 'gravity'\n",
    "metric = 'MSE' #'MSE\n",
    "baseline = False\n",
    "for model_name, model_version in models.items():\n",
    "    config = {}\n",
    "    data_seeds = [] \n",
    "    energies = []\n",
    "    for seed in seeds:\n",
    "        \n",
    "        configuration = f'{dataset}_seed-{seed}_n_part-5_n_inputs-3_varDT-False_num_timesteps-10:{model_version}'\n",
    "        \n",
    "        artifact = api.artifact(f'jet-tagging/Particle-Physics/{configuration}', type='results')\n",
    "        artifact_dir = artifact.download()\n",
    "        source_run = artifact.logged_by()\n",
    "        model_type = source_run.config.get(\"model\") \n",
    "        print(model_type)\n",
    "        artifact_dir = next(iter(Path(artifact_dir).iterdir()))\n",
    "        results = torch.load(artifact_dir, map_location=torch.device('cpu')) #, weight_only=False\n",
    "        #Data(targets=[T, traj_len, N, 3],preds=[T, traj_len, N, 3],energy_conservation=[T, traj_len, 1], test_loss=FLOAT)\n",
    "        print(f\"Results loaded for configuration: {configuration}\")\n",
    "        n_samples = results['preds'].shape[0]\n",
    "        T = results['preds'].shape[1]\n",
    "        N = results['preds'].shape[2]\n",
    "        D = results['preds'].shape[3]\n",
    "        preds = results['preds'].view(n_samples, T, N*D)  # Flatten the last two dimensions\n",
    "        targets = results['targets'].view(n_samples, T, N*D)\n",
    "        energy_conservation = results['energy_conservation'] if model_name == 'EGNO' else results['energies']\n",
    "        print(energy_conservation.shape)\n",
    "        energies.append(energy_conservation)\n",
    "        combined = np.stack([targets, preds], axis=0)  # shape: (2, #samples, traj_len, N, 3)\n",
    "        print(preds.shape, targets.shape, combined.shape)\n",
    "        data_seeds.append(combined)\n",
    "\n",
    "    final_data = np.stack(data_seeds, axis=0)\n",
    "    energies = np.stack(energies, axis=0)\n",
    "    print(np.size(final_data) - np.count_nonzero(final_data))\n",
    "    print(f\"Final data shape: {final_data.shape}\")\n",
    "    config[\"model\"] = model_name\n",
    "    config[\"data\"] = torch.tensor(final_data)\n",
    "    config[\"energy\"] = torch.tensor(energies)\n",
    "    config[\"num_timesteps\"] = 10\n",
    "    config[\"color\"] = colors[model_name]\n",
    "    config[\"label\"] = f'{dataset}_{model_name}_n_part-5_n_inputs-3_varDT-False_num_timesteps-10'\n",
    "    config[\"baseline\"] = baseline\n",
    "    config[\"dataset\"] = dataset\n",
    "    configs.append(config)\n",
    "\n",
    "#out the cycle, call plotting functions\n",
    "if baseline:\n",
    "    configs.extend(baselines)\n",
    "plot_multiple_curves_wandb(configs, plot_function_wandb, metric=metric, save=False, filename=f'{dataset}_plots/n_part-5_n_inputs-3_varDT-False_num_timesteps-10.png')"
   ]
  },
  {
   "cell_type": "markdown",
   "id": "a6c79379",
   "metadata": {},
   "source": [
    "## load artifact name from json"
   ]
  },
  {
   "cell_type": "code",
   "execution_count": 10,
   "id": "d233b8ea",
   "metadata": {},
   "outputs": [],
   "source": [
    "import json\n",
    "\n",
    "def load_artifact():\n",
    "    # Load JSON file into a Python dict\n",
    "    with open(\"artifact_model_map_complete.json\", \"r\") as f:\n",
    "        data = json.load(f)\n",
    "    return data"
   ]
  },
  {
   "cell_type": "code",
   "execution_count": null,
   "id": "4cbf26d8",
   "metadata": {},
   "outputs": [],
   "source": [
    "data = load_artifact()\n",
    "exp_data = data[\"charged_n_part-20_n_inputs-1_varDT-False_num_timesteps-10\"]\n",
    "# \"charged_n_part-20_n_inputs-1_varDT-False_num_timesteps-10\": {\n",
    "#     \"segno\": {\n",
    "#       \"2\": \"charged_seed-2_n_part-20_n_inputs-1_varDT-False_num_timesteps-10:v1\",\n",
    "#       \"3\": \"charged_seed-3_n_part-20_n_inputs-1_varDT-False_num_timesteps-10:v1\"\n",
    "#     },\n",
    "#     \"egno\": {\n",
    "#       \"3\": \"charged_seed-3_n_part-20_n_inputs-1_varDT-False_num_timesteps-10:v0\",\n",
    "#       \"2\": \"charged_seed-2_n_part-20_n_inputs-1_varDT-False_num_timesteps-10:v0\",\n",
    "#       \"1\": \"charged_seed-1_n_part-20_n_inputs-1_varDT-False_num_timesteps-10:v0\"\n",
    "#     }\n",
    "configs = []\n",
    "dataset = 'gravity'\n",
    "metric = 'MSE'\n",
    "baseline = False\n",
    "for model_name, model_version in models.items():\n",
    "    config = {}\n",
    "    data_seeds = [] \n",
    "    energies = []\n",
    "    for seed in seeds:\n",
    "        \n",
    "        configuration = f'{exp_data[model_name.lower()][str(seed)]}'\n",
    "        \n",
    "        artifact = api.artifact(f'jet-tagging/Particle-Physics/{configuration}', type='results')\n",
    "        artifact_dir = artifact.download()\n",
    "        source_run = artifact.logged_by()\n",
    "        model_type = source_run.config.get(\"model\") \n",
    "        print(model_type)\n",
    "        artifact_dir = next(iter(Path(artifact_dir).iterdir()))\n",
    "        results = torch.load(artifact_dir, map_location=torch.device('cpu')) #, weight_only=False\n",
    "        #Data(targets=[T, traj_len, N, 3],preds=[T, traj_len, N, 3],energy_conservation=[T, traj_len, 1], test_loss=FLOAT)\n",
    "        print(f\"Results loaded for configuration: {configuration}\")\n",
    "        n_samples = results['preds'].shape[0]\n",
    "        T = results['preds'].shape[1]\n",
    "        N = results['preds'].shape[2]\n",
    "        D = results['preds'].shape[3]\n",
    "        preds = results['preds'].view(n_samples, T, N*D)  # Flatten the last two dimensions\n",
    "        targets = results['targets'].view(n_samples, T, N*D)\n",
    "        energy_conservation = results['energy_conservation'] if model_name == 'EGNO' else results['energies']\n",
    "        print(energy_conservation.shape)\n",
    "        energies.append(energy_conservation)\n",
    "        combined = np.stack([targets, preds], axis=0)  # shape: (2, #samples, traj_len, N, 3)\n",
    "        print(preds.shape, targets.shape, combined.shape)\n",
    "        data_seeds.append(combined)\n",
    "\n",
    "    final_data = np.stack(data_seeds, axis=0)\n",
    "    print(np.size(final_data) - np.count_nonzero(final_data))\n",
    "    print(f\"Final data shape: {final_data.shape}\")\n",
    "    config[\"model\"] = model_name\n",
    "    config[\"data\"] = torch.tensor(final_data)\n",
    "    config[\"energy\"] = torch.tensor(energies)\n",
    "    config[\"num_timesteps\"] = 10\n",
    "    config[\"color\"] = colors[model_name]\n",
    "    config[\"label\"] = f'{dataset}_{model_name}_n_part-5_n_inputs-3_varDT-False_num_timesteps-10'\n",
    "    config[\"baseline\"] = True\n",
    "    configs.append(config)\n",
    "\n",
    "#out the cycle, call plotting functions\n",
    "if baseline:\n",
    "    configs.extend(baselines)\n",
    "plot_multiple_curves_wandb(configs, plot_function_wandb, metric=metric, save=False, filename=f'{dataset}_plots/n_part-5_n_inputs-3_varDT-False_num_timesteps-10.png')"
   ]
  },
  {
   "cell_type": "markdown",
   "id": "b617309f",
   "metadata": {},
   "source": [
    "## Table generation"
   ]
  },
  {
   "cell_type": "code",
   "execution_count": 10,
   "id": "96ca909d",
   "metadata": {},
   "outputs": [
    {
     "name": "stderr",
     "output_type": "stream",
     "text": [
      "\u001b[34m\u001b[1mwandb\u001b[0m:   1 of 1 files downloaded.  \n"
     ]
    },
    {
     "name": "stdout",
     "output_type": "stream",
     "text": [
      "egno\n",
      "Results loaded for configuration: gravity_seed-1_n_part-5_n_inputs-2_varDT-False_num_timesteps-10:v0, Data(targets=[2000, 20, 5, 3], preds=[2000, 20, 5, 3], energy_conservation=[2000, 20, 1], test_loss=60758242038.62889)\n",
      "torch.Size([2000, 10, 1])\n",
      "torch.Size([2000, 10, 15]) torch.Size([2000, 10, 15]) (2, 2000, 10, 15)\n"
     ]
    },
    {
     "name": "stderr",
     "output_type": "stream",
     "text": [
      "C:\\Users\\Matteo Celia\\AppData\\Local\\Temp\\ipykernel_37156\\2918031179.py:26: FutureWarning: You are using `torch.load` with `weights_only=False` (the current default value), which uses the default pickle module implicitly. It is possible to construct malicious pickle data which will execute arbitrary code during unpickling (See https://github.com/pytorch/pytorch/blob/main/SECURITY.md#untrusted-models for more details). In a future release, the default value for `weights_only` will be flipped to `True`. This limits the functions that could be executed during unpickling. Arbitrary objects will no longer be allowed to be loaded via this mode unless they are explicitly allowlisted by the user via `torch.serialization.add_safe_globals`. We recommend you start setting `weights_only=True` for any use case where you don't have full control of the loaded file. Please open an issue on GitHub for any issues related to this experimental feature.\n",
      "  results = torch.load(artifact_dir, map_location=torch.device('cpu')) #, weight_only=False\n",
      "\u001b[34m\u001b[1mwandb\u001b[0m:   1 of 1 files downloaded.  \n"
     ]
    },
    {
     "name": "stdout",
     "output_type": "stream",
     "text": [
      "egno\n",
      "Results loaded for configuration: gravity_seed-2_n_part-5_n_inputs-2_varDT-False_num_timesteps-10:v0, Data(targets=[2000, 20, 5, 3], preds=[2000, 20, 5, 3], energy_conservation=[2000, 20, 1], test_loss=2.9100493144947174e+17)\n",
      "torch.Size([2000, 10, 1])\n",
      "torch.Size([2000, 10, 15]) torch.Size([2000, 10, 15]) (2, 2000, 10, 15)\n"
     ]
    },
    {
     "name": "stderr",
     "output_type": "stream",
     "text": [
      "\u001b[34m\u001b[1mwandb\u001b[0m:   1 of 1 files downloaded.  \n"
     ]
    },
    {
     "name": "stdout",
     "output_type": "stream",
     "text": [
      "egno\n",
      "Results loaded for configuration: gravity_seed-3_n_part-5_n_inputs-2_varDT-False_num_timesteps-10:v0, Data(targets=[2000, 20, 5, 3], preds=[2000, 20, 5, 3], energy_conservation=[2000, 20, 1], test_loss=4.557147877746583e+19)\n",
      "torch.Size([2000, 10, 1])\n",
      "torch.Size([2000, 10, 15]) torch.Size([2000, 10, 15]) (2, 2000, 10, 15)\n",
      "0\n",
      "Final data shape: (3, 2, 2000, 10, 15)\n",
      "t_last, first -1 9\n",
      "(3, 2, 2000, 10, 15)\n",
      "torch.Size([2, 2000, 10, 15])\n",
      "torch.Size([2, 2000, 10, 15])\n",
      "torch.Size([2, 2000, 10, 15])\n",
      "torch.Size([2000, 10, 15]) torch.Size([2000, 10, 15])\n",
      "torch.Size([2000, 10, 15]) torch.Size([2000, 10, 15])\n",
      "torch.Size([2000, 10, 15]) torch.Size([2000, 10, 15])\n",
      "(3, 2000, 10, 1)\n",
      "torch.Size([2000, 10, 1])\n",
      "torch.Size([2000, 10, 1])\n",
      "torch.Size([2000, 10, 1])\n"
     ]
    },
    {
     "name": "stderr",
     "output_type": "stream",
     "text": [
      "\u001b[34m\u001b[1mwandb\u001b[0m:   1 of 1 files downloaded.  \n"
     ]
    },
    {
     "name": "stdout",
     "output_type": "stream",
     "text": [
      "segno\n",
      "Results loaded for configuration: gravity_seed-1_n_part-5_n_inputs-2_varDT-False_num_timesteps-10:v1, Data(targets=[2000, 10, 5, 3], preds=[2000, 10, 5, 3], energies=[2000, 10, 1], test_loss=7920.25180859375, traj_losses=[16])\n",
      "torch.Size([2000, 10, 1])\n",
      "torch.Size([2000, 10, 15]) torch.Size([2000, 10, 15]) (2, 2000, 10, 15)\n"
     ]
    },
    {
     "name": "stderr",
     "output_type": "stream",
     "text": [
      "\u001b[34m\u001b[1mwandb\u001b[0m:   1 of 1 files downloaded.  \n"
     ]
    },
    {
     "name": "stdout",
     "output_type": "stream",
     "text": [
      "segno\n",
      "Results loaded for configuration: gravity_seed-2_n_part-5_n_inputs-2_varDT-False_num_timesteps-10:v1, Data(targets=[2000, 10, 5, 3], preds=[2000, 10, 5, 3], energies=[2000, 10, 1], test_loss=7560.27077734375, traj_losses=[16])\n",
      "torch.Size([2000, 10, 1])\n",
      "torch.Size([2000, 10, 15]) torch.Size([2000, 10, 15]) (2, 2000, 10, 15)\n"
     ]
    },
    {
     "name": "stderr",
     "output_type": "stream",
     "text": [
      "\u001b[34m\u001b[1mwandb\u001b[0m:   1 of 1 files downloaded.  \n"
     ]
    },
    {
     "name": "stdout",
     "output_type": "stream",
     "text": [
      "segno\n",
      "Results loaded for configuration: gravity_seed-3_n_part-5_n_inputs-2_varDT-False_num_timesteps-10:v1, Data(targets=[2000, 10, 5, 3], preds=[2000, 10, 5, 3], energies=[2000, 10, 1], test_loss=8260.992375, traj_losses=[16])\n",
      "torch.Size([2000, 10, 1])\n",
      "torch.Size([2000, 10, 15]) torch.Size([2000, 10, 15]) (2, 2000, 10, 15)\n",
      "0\n",
      "Final data shape: (3, 2, 2000, 10, 15)\n",
      "t_last, first 2 0\n",
      "(3, 2, 2000, 10, 15)\n",
      "torch.Size([2, 2000, 10, 15])\n",
      "torch.Size([2, 2000, 10, 15])\n",
      "torch.Size([2, 2000, 10, 15])\n",
      "torch.Size([2000, 10, 15]) torch.Size([2000, 10, 15])\n",
      "torch.Size([2000, 10, 15]) torch.Size([2000, 10, 15])\n",
      "torch.Size([2000, 10, 15]) torch.Size([2000, 10, 15])\n",
      "(3, 2000, 10, 1)\n",
      "torch.Size([2000, 10, 1])\n",
      "torch.Size([2000, 10, 1])\n",
      "torch.Size([2000, 10, 1])\n"
     ]
    },
    {
     "name": "stderr",
     "output_type": "stream",
     "text": [
      "\u001b[34m\u001b[1mwandb\u001b[0m:   1 of 1 files downloaded.  \n"
     ]
    },
    {
     "name": "stdout",
     "output_type": "stream",
     "text": [
      "egno\n",
      "Results loaded for configuration: gravity_seed-1_n_part-5_n_inputs-3_varDT-False_num_timesteps-10:v0, Data(targets=[2000, 20, 5, 3], preds=[2000, 20, 5, 3], energy_conservation=[2000, 20, 1], test_loss=1740476982024198.8)\n",
      "torch.Size([2000, 10, 1])\n",
      "torch.Size([2000, 10, 15]) torch.Size([2000, 10, 15]) (2, 2000, 10, 15)\n"
     ]
    },
    {
     "name": "stderr",
     "output_type": "stream",
     "text": [
      "\u001b[34m\u001b[1mwandb\u001b[0m:   1 of 1 files downloaded.  \n"
     ]
    },
    {
     "name": "stdout",
     "output_type": "stream",
     "text": [
      "egno\n",
      "Results loaded for configuration: gravity_seed-2_n_part-5_n_inputs-3_varDT-False_num_timesteps-10:v0, Data(targets=[2000, 20, 5, 3], preds=[2000, 20, 5, 3], energy_conservation=[2000, 20, 1], test_loss=3.9347694213676845e+22)\n",
      "torch.Size([2000, 10, 1])\n",
      "torch.Size([2000, 10, 15]) torch.Size([2000, 10, 15]) (2, 2000, 10, 15)\n"
     ]
    },
    {
     "name": "stderr",
     "output_type": "stream",
     "text": [
      "\u001b[34m\u001b[1mwandb\u001b[0m:   1 of 1 files downloaded.  \n"
     ]
    },
    {
     "name": "stdout",
     "output_type": "stream",
     "text": [
      "egno\n",
      "Results loaded for configuration: gravity_seed-3_n_part-5_n_inputs-3_varDT-False_num_timesteps-10:v0, Data(targets=[2000, 20, 5, 3], preds=[2000, 20, 5, 3], energy_conservation=[2000, 20, 1], test_loss=inf)\n",
      "torch.Size([2000, 10, 1])\n",
      "torch.Size([2000, 10, 15]) torch.Size([2000, 10, 15]) (2, 2000, 10, 15)\n",
      "0\n",
      "Final data shape: (3, 2, 2000, 10, 15)\n",
      "t_last, first -1 9\n",
      "(3, 2, 2000, 10, 15)\n",
      "torch.Size([2, 2000, 10, 15])\n",
      "torch.Size([2, 2000, 10, 15])\n",
      "torch.Size([2, 2000, 10, 15])\n",
      "torch.Size([2000, 10, 15]) torch.Size([2000, 10, 15])\n",
      "torch.Size([2000, 10, 15]) torch.Size([2000, 10, 15])\n",
      "torch.Size([2000, 10, 15]) torch.Size([2000, 10, 15])\n",
      "(3, 2000, 10, 1)\n",
      "torch.Size([2000, 10, 1])\n",
      "torch.Size([2000, 10, 1])\n",
      "torch.Size([2000, 10, 1])\n"
     ]
    },
    {
     "name": "stderr",
     "output_type": "stream",
     "text": [
      "\u001b[34m\u001b[1mwandb\u001b[0m:   1 of 1 files downloaded.  \n"
     ]
    },
    {
     "name": "stdout",
     "output_type": "stream",
     "text": [
      "segno\n",
      "Results loaded for configuration: gravity_seed-1_n_part-5_n_inputs-3_varDT-False_num_timesteps-10:v1, Data(targets=[2000, 10, 5, 3], preds=[2000, 10, 5, 3], energies=[2000, 10, 1], test_loss=8549.40455859375, traj_losses=[16])\n",
      "torch.Size([2000, 10, 1])\n",
      "torch.Size([2000, 10, 15]) torch.Size([2000, 10, 15]) (2, 2000, 10, 15)\n"
     ]
    },
    {
     "name": "stderr",
     "output_type": "stream",
     "text": [
      "\u001b[34m\u001b[1mwandb\u001b[0m:   1 of 1 files downloaded.  \n"
     ]
    },
    {
     "name": "stdout",
     "output_type": "stream",
     "text": [
      "segno\n",
      "Results loaded for configuration: gravity_seed-2_n_part-5_n_inputs-3_varDT-False_num_timesteps-10:v1, Data(targets=[2000, 10, 5, 3], preds=[2000, 10, 5, 3], energies=[2000, 10, 1], test_loss=8429.4992421875, traj_losses=[16])\n",
      "torch.Size([2000, 10, 1])\n",
      "torch.Size([2000, 10, 15]) torch.Size([2000, 10, 15]) (2, 2000, 10, 15)\n"
     ]
    },
    {
     "name": "stderr",
     "output_type": "stream",
     "text": [
      "\u001b[34m\u001b[1mwandb\u001b[0m:   1 of 1 files downloaded.  \n"
     ]
    },
    {
     "name": "stdout",
     "output_type": "stream",
     "text": [
      "segno\n",
      "Results loaded for configuration: gravity_seed-3_n_part-5_n_inputs-3_varDT-False_num_timesteps-10:v1, Data(targets=[2000, 10, 5, 3], preds=[2000, 10, 5, 3], energies=[2000, 10, 1], test_loss=8824.988265625, traj_losses=[16])\n",
      "torch.Size([2000, 10, 1])\n",
      "torch.Size([2000, 10, 15]) torch.Size([2000, 10, 15]) (2, 2000, 10, 15)\n",
      "0\n",
      "Final data shape: (3, 2, 2000, 10, 15)\n",
      "t_last, first 2 0\n",
      "(3, 2, 2000, 10, 15)\n",
      "torch.Size([2, 2000, 10, 15])\n",
      "torch.Size([2, 2000, 10, 15])\n",
      "torch.Size([2, 2000, 10, 15])\n",
      "torch.Size([2000, 10, 15]) torch.Size([2000, 10, 15])\n",
      "torch.Size([2000, 10, 15]) torch.Size([2000, 10, 15])\n",
      "torch.Size([2000, 10, 15]) torch.Size([2000, 10, 15])\n",
      "(3, 2000, 10, 1)\n",
      "torch.Size([2000, 10, 1])\n",
      "torch.Size([2000, 10, 1])\n",
      "torch.Size([2000, 10, 1])\n",
      "\\begin{tabular}{lrrrrr}\n",
      "\\hline\n",
      " model          &    avgMSE &   avgMAE &   MSE first step &   MAE first step &    avgED \\\\\n",
      "\\hline\n",
      " EGNO\\_MI(2)VDT  &   715.454 &   2.4506 &          322.052 &           2.2757 &  7768.68 \\\\\n",
      " SEGNO\\_MI(2)VDT &   568.519 &   4.6135 &          352.439 &           3.5765 & 44162.6  \\\\\n",
      " EGNO\\_MI(3)VDT  & 50498.7   &   7.7042 &        45617.6   &           7.7348 &  1926.45 \\\\\n",
      " SEGNO\\_MI(3)VDT &   988.149 &   6.2601 &          710.796 &           5.2163 & 29874.7  \\\\\n",
      "\\hline\n",
      "\\end{tabular}\n"
     ]
    }
   ],
   "source": [
    "from plotting import *\n",
    "headers = [\"model\", \"avgMSE\", \"avgMAE\",\"MSE first step\", \"MAE first step\", \"avgED\"]\n",
    "dataset = 'gravity'\n",
    "metric = 'MSE'\n",
    "data = []\n",
    "varDT = True\n",
    "std = False\n",
    "n_parts = 5\n",
    "# seeds = [1]\n",
    "num_inputs_values = [2,3]\n",
    "for num_inputs in num_inputs_values:\n",
    "    for model_name, model_version in models.items():\n",
    "        config = {}\n",
    "        data_seeds = [] \n",
    "        energies = []\n",
    "        for seed in seeds:\n",
    "            \n",
    "            configuration = f'{dataset}_seed-{seed}_n_part-{n_parts}_n_inputs-{num_inputs}_varDT-False_num_timesteps-10:{model_version}'\n",
    "            \n",
    "            artifact = api.artifact(f'jet-tagging/Particle-Physics/{configuration}', type='results')\n",
    "            artifact_dir = artifact.download()\n",
    "            source_run = artifact.logged_by()\n",
    "            model_type = source_run.config.get(\"model\") \n",
    "            print(model_type)\n",
    "            artifact_dir = next(iter(Path(artifact_dir).iterdir()))\n",
    "            results = torch.load(artifact_dir, map_location=torch.device('cpu')) #, weight_only=False\n",
    "            #Data(targets=[T, traj_len, N, 3],preds=[T, traj_len, N, 3],energy_conservation=[T, traj_len, 1], test_loss=FLOAT)\n",
    "            print(f\"Results loaded for configuration: {configuration}, {results}\")\n",
    "            n_samples = results['preds'].shape[0]\n",
    "            T = results['preds'].shape[1]\n",
    "            N = results['preds'].shape[2]\n",
    "            D = results['preds'].shape[3]\n",
    "            preds = results['preds'].view(n_samples, T, N*D)  # Flatten the last two dimensions\n",
    "            targets = results['targets'].view(n_samples, T, N*D)\n",
    "            energy_conservation = results['energy_conservation'] if model_name == 'EGNO' and results['energy_conservation'] is not None else results['energies']\n",
    "            if dataset == 'gravity':\n",
    "                preds = preds[:, :10, :]\n",
    "                targets = targets[:, :10, :]\n",
    "                energy_conservation = energy_conservation[:, :10, :]\n",
    "            print(energy_conservation.shape)\n",
    "            energies.append(energy_conservation)\n",
    "            combined = np.stack([targets, preds], axis=0)  # shape: (2, #samples, traj_len, N, 3)\n",
    "            print(preds.shape, targets.shape, combined.shape)\n",
    "            data_seeds.append(combined)\n",
    "\n",
    "        final_data = np.stack(data_seeds, axis=0)\n",
    "        energies = np.stack(energies, axis=0)\n",
    "        print(np.size(final_data) - np.count_nonzero(final_data))\n",
    "        print(f\"Final data shape: {final_data.shape}\")\n",
    "        config[\"model\"] = model_name\n",
    "        config[\"data\"] = torch.tensor(final_data)\n",
    "        config[\"energy\"] = torch.tensor(energies)\n",
    "        config[\"num_timesteps\"] = 10\n",
    "        config[\"dataset\"] = dataset\n",
    "        config[\"color\"] = colors[model_name]\n",
    "        config[\"label\"] = f'{dataset}_{model_name}_n_part-5_n_inputs-3_varDT-False_num_timesteps-10'\n",
    "        if std:\n",
    "            index, avg_mse, avg_std_mse, avg_mae, avg_std_mae, first_mse, first_mae, avg_ed, avg_std_ed = compute_avg_loss_until_t_wandb(config=config, std=std)\n",
    "        else:\n",
    "            index, avg_mse, avg_mae, first_mse, first_mae, avg_ed = compute_avg_loss_until_t_wandb(config=config, std=std)\n",
    "\n",
    "        vdt = 'VDT' if varDT else ''\n",
    "        mi = f'_MI({num_inputs})' if num_inputs > 1 else ''\n",
    "        model_label = f'{model_name}{mi}{vdt}'\n",
    "        index        = np.nan_to_num(index, nan=0)\n",
    "        avg_mse      = np.nan_to_num(avg_mse, nan=0)\n",
    "        # avg_std_mse  = np.nan_to_num(avg_std_mse, nan=0)\n",
    "        avg_mae      = np.nan_to_num(avg_mae, nan=0)\n",
    "        # avg_std_mae  = np.nan_to_num(avg_std_mae, nan=0)\n",
    "        first_mse    = np.nan_to_num(first_mse, nan=0)\n",
    "        first_mae    = np.nan_to_num(first_mae, nan=0)\n",
    "        avg_ed       = np.nan_to_num(avg_ed, nan=0)\n",
    "        # avg_std_ed   = np.nan_to_num(avg_std_ed, nan=0)\n",
    "        data.append([model_label,round(avg_mse.item(), 4), round(avg_mae.item(), 4),  round(first_mse.item(), 4),round(first_mae.item(), 4), round(avg_ed.item(), 4)])\n",
    "#out the cycle, call plotting functions\n",
    "print_latex_table(headers, data)"
   ]
  },
  {
   "cell_type": "markdown",
   "id": "0c2c1614",
   "metadata": {},
   "source": [
    "### random testing\n"
   ]
  },
  {
   "cell_type": "code",
   "execution_count": 10,
   "id": "59821c39",
   "metadata": {},
   "outputs": [
    {
     "name": "stdout",
     "output_type": "stream",
     "text": [
      "egno\n"
     ]
    }
   ],
   "source": [
    "model_type = run.config.get(\"model\")\n",
    "print(model_type)"
   ]
  },
  {
   "cell_type": "code",
   "execution_count": 11,
   "id": "872c4572",
   "metadata": {},
   "outputs": [
    {
     "name": "stdout",
     "output_type": "stream",
     "text": [
      "t_last: 5, first: 0\n"
     ]
    }
   ],
   "source": [
    "(t_last, first) = (-1, 3) if False else (2 if False else 5, 0)\n",
    "print(f\"t_last: {t_last}, first: {first}\")"
   ]
  },
  {
   "cell_type": "code",
   "execution_count": 12,
   "id": "b262988e",
   "metadata": {},
   "outputs": [
    {
     "ename": "NameError",
     "evalue": "name 'np' is not defined",
     "output_type": "error",
     "traceback": [
      "\u001b[1;31m---------------------------------------------------------------------------\u001b[0m",
      "\u001b[1;31mNameError\u001b[0m                                 Traceback (most recent call last)",
      "Cell \u001b[1;32mIn[12], line 1\u001b[0m\n\u001b[1;32m----> 1\u001b[0m \u001b[43mnp\u001b[49m\u001b[38;5;241m.\u001b[39msize(final_data) \u001b[38;5;241m-\u001b[39m np\u001b[38;5;241m.\u001b[39mcount_nonzero(final_data)  \u001b[38;5;66;03m# Count non-zero elements in the first sample of the first seed\u001b[39;00m\n",
      "\u001b[1;31mNameError\u001b[0m: name 'np' is not defined"
     ]
    }
   ],
   "source": [
    "np.size(final_data) - np.count_nonzero(final_data)  # Count non-zero elements in the first sample of the first seed"
   ]
  },
  {
   "cell_type": "code",
   "execution_count": null,
   "id": "6efe5b38",
   "metadata": {},
   "outputs": [],
   "source": [
    "label = f'{dataset}_{model_name}_n_part-{n_balls}_n_inputs-{num_inputs}_varDT-{varDT}_num_timesteps-{num_timesteps}'"
   ]
  },
  {
   "cell_type": "code",
   "execution_count": null,
   "id": "d2a9f0f4",
   "metadata": {},
   "outputs": [
    {
     "name": "stdout",
     "output_type": "stream",
     "text": [
      "(2, 3, 4)\n",
      "(2, 12)\n",
      "[[[-0.13883326 -0.86092433 -0.46132982  0.00884938]\n",
      "  [-1.41886847  0.4353888   0.27006243  0.44236889]\n",
      "  [ 0.87912302 -1.12081852  1.36392799 -0.37009039]]\n",
      "\n",
      " [[ 1.48128083 -0.21777604  1.49859309  0.17732918]\n",
      "  [ 0.03388336 -0.15623612  1.0724678   1.29727964]\n",
      "  [ 0.56262496  1.69323735 -0.83003566  0.54243966]]] [[-0.13883326 -0.86092433 -0.46132982  0.00884938 -1.41886847  0.4353888\n",
      "   0.27006243  0.44236889  0.87912302 -1.12081852  1.36392799 -0.37009039]\n",
      " [ 1.48128083 -0.21777604  1.49859309  0.17732918  0.03388336 -0.15623612\n",
      "   1.0724678   1.29727964  0.56262496  1.69323735 -0.83003566  0.54243966]]\n"
     ]
    }
   ],
   "source": [
    "B, N, D = 2, 3, 4\n",
    "x = np.random.randn(B, N, D)\n",
    "print(x.shape)         # (2, 3, 4)\n",
    "x_flat = x.reshape(B, N * D)\n",
    "print(x_flat.shape)    # (2, 12)\n",
    "print(x,x_flat)"
   ]
  },
  {
   "cell_type": "markdown",
   "id": "7b436b77",
   "metadata": {},
   "source": [
    "## Generate artifacts map from csv"
   ]
  },
  {
   "cell_type": "code",
   "execution_count": 9,
   "id": "1cb1b5d1",
   "metadata": {},
   "outputs": [
    {
     "name": "stdout",
     "output_type": "stream",
     "text": [
      "charged_n_part-5_n_inputs-1_dT_1_varDT-False_num_timesteps-10 → seed=2 → egno: charged_seed-2_n_part-5_n_inputs-1_dT_1_varDT-False_num_timesteps-10:v1\n",
      "charged_n_part-5_n_inputs-1_dT_1_varDT-False_num_timesteps-10 → seed=1 → egno: charged_seed-1_n_part-5_n_inputs-1_dT_1_varDT-False_num_timesteps-10:v1\n",
      "gravity_n_part-20_n_inputs-1_dT_1_varDT-False_num_timesteps-10 → seed=2 → segno: gravity_seed-2_n_part-20_n_inputs-1_dT_1_varDT-False_num_timesteps-10:v0\n",
      "gravity_n_part-20_n_inputs-1_dT_1_varDT-False_num_timesteps-10 → seed=1 → segno: gravity_seed-1_n_part-20_n_inputs-1_dT_1_varDT-False_num_timesteps-10:v0\n",
      "gravity_n_part-10_n_inputs-1_dT_1_varDT-False_num_timesteps-10 → seed=2 → segno: gravity_seed-2_n_part-10_n_inputs-1_dT_1_varDT-False_num_timesteps-10:v0\n",
      "gravity_n_part-10_n_inputs-1_dT_1_varDT-False_num_timesteps-10 → seed=1 → segno: gravity_seed-1_n_part-10_n_inputs-1_dT_1_varDT-False_num_timesteps-10:v0\n",
      "gravity_n_part-5_n_inputs-1_dT_1_varDT-False_num_timesteps-10 → seed=2 → segno: gravity_seed-2_n_part-5_n_inputs-1_dT_1_varDT-False_num_timesteps-10:v0\n",
      "gravity_n_part-5_n_inputs-1_dT_1_varDT-False_num_timesteps-10 → seed=1 → segno: gravity_seed-1_n_part-5_n_inputs-1_dT_1_varDT-False_num_timesteps-10:v0\n",
      "charged_n_part-20_n_inputs-1_dT_1_varDT-False_num_timesteps-10 → seed=2 → segno: charged_seed-2_n_part-20_n_inputs-1_dT_1_varDT-False_num_timesteps-10:v0\n",
      "charged_n_part-20_n_inputs-1_dT_1_varDT-False_num_timesteps-10 → seed=1 → segno: charged_seed-1_n_part-20_n_inputs-1_dT_1_varDT-False_num_timesteps-10:v0\n",
      "charged_n_part-10_n_inputs-1_dT_1_varDT-False_num_timesteps-10 → seed=2 → segno: charged_seed-2_n_part-10_n_inputs-1_dT_1_varDT-False_num_timesteps-10:v0\n",
      "charged_n_part-10_n_inputs-1_dT_1_varDT-False_num_timesteps-10 → seed=1 → segno: charged_seed-1_n_part-10_n_inputs-1_dT_1_varDT-False_num_timesteps-10:v0\n",
      "charged_n_part-5_n_inputs-1_dT_1_varDT-False_num_timesteps-10 → seed=2 → segno: charged_seed-2_n_part-5_n_inputs-1_dT_1_varDT-False_num_timesteps-10:v0\n",
      "charged_n_part-5_n_inputs-1_dT_1_varDT-False_num_timesteps-10 → seed=1 → segno: charged_seed-1_n_part-5_n_inputs-1_dT_1_varDT-False_num_timesteps-10:v0\n",
      "gravity_n_part-5_n_inputs-1_varDT-False_num_timesteps-10 → seed=2 → segno: gravity_seed-2_n_part-5_n_inputs-1_varDT-False_num_timesteps-10:v1\n",
      "gravity_n_part-5_n_inputs-1_varDT-False_num_timesteps-10 → seed=1 → segno: gravity_seed-1_n_part-5_n_inputs-1_varDT-False_num_timesteps-10:v1\n",
      "charged_n_part-20_n_inputs-1_varDT-False_num_timesteps-10 → seed=2 → segno: charged_seed-2_n_part-20_n_inputs-1_varDT-False_num_timesteps-10:v1\n",
      "charged_n_part-5_n_inputs-1_varDT-False_num_timesteps-10 → seed=1 → segno: charged_seed-1_n_part-5_n_inputs-1_varDT-False_num_timesteps-10:v1\n",
      "gravity_n_part-20_n_inputs-3_varDT-True_num_timesteps-10 → seed=3 → segno: gravity_seed-3_n_part-20_n_inputs-3_varDT-True_num_timesteps-10:v0\n",
      "gravity_n_part-20_n_inputs-3_varDT-False_num_timesteps-10 → seed=3 → segno: gravity_seed-3_n_part-20_n_inputs-3_varDT-False_num_timesteps-10:v0\n",
      "gravity_n_part-20_n_inputs-3_varDT-True_num_timesteps-10 → seed=2 → segno: gravity_seed-2_n_part-20_n_inputs-3_varDT-True_num_timesteps-10:v1\n",
      "gravity_n_part-20_n_inputs-3_varDT-False_num_timesteps-10 → seed=2 → segno: gravity_seed-2_n_part-20_n_inputs-3_varDT-False_num_timesteps-10:v1\n",
      "gravity_n_part-20_n_inputs-3_varDT-True_num_timesteps-10 → seed=1 → segno: gravity_seed-1_n_part-20_n_inputs-3_varDT-True_num_timesteps-10:v1\n",
      "gravity_n_part-20_n_inputs-3_varDT-False_num_timesteps-10 → seed=1 → segno: gravity_seed-1_n_part-20_n_inputs-3_varDT-False_num_timesteps-10:v1\n",
      "gravity_n_part-20_n_inputs-2_varDT-True_num_timesteps-10 → seed=3 → segno: gravity_seed-3_n_part-20_n_inputs-2_varDT-True_num_timesteps-10:v1\n",
      "gravity_n_part-20_n_inputs-2_varDT-False_num_timesteps-10 → seed=3 → segno: gravity_seed-3_n_part-20_n_inputs-2_varDT-False_num_timesteps-10:v1\n",
      "gravity_n_part-20_n_inputs-2_varDT-True_num_timesteps-10 → seed=2 → segno: gravity_seed-2_n_part-20_n_inputs-2_varDT-True_num_timesteps-10:v1\n",
      "gravity_n_part-20_n_inputs-2_varDT-False_num_timesteps-10 → seed=2 → segno: gravity_seed-2_n_part-20_n_inputs-2_varDT-False_num_timesteps-10:v1\n",
      "gravity_n_part-20_n_inputs-2_varDT-True_num_timesteps-10 → seed=1 → segno: gravity_seed-1_n_part-20_n_inputs-2_varDT-True_num_timesteps-10:v1\n",
      "gravity_n_part-20_n_inputs-2_varDT-False_num_timesteps-10 → seed=1 → segno: gravity_seed-1_n_part-20_n_inputs-2_varDT-False_num_timesteps-10:v1\n",
      "gravity_n_part-10_n_inputs-3_varDT-True_num_timesteps-10 → seed=3 → segno: gravity_seed-3_n_part-10_n_inputs-3_varDT-True_num_timesteps-10:v1\n",
      "gravity_n_part-10_n_inputs-3_varDT-False_num_timesteps-10 → seed=3 → segno: gravity_seed-3_n_part-10_n_inputs-3_varDT-False_num_timesteps-10:v1\n",
      "gravity_n_part-10_n_inputs-3_varDT-True_num_timesteps-10 → seed=2 → segno: gravity_seed-2_n_part-10_n_inputs-3_varDT-True_num_timesteps-10:v1\n",
      "gravity_n_part-10_n_inputs-3_varDT-False_num_timesteps-10 → seed=2 → segno: gravity_seed-2_n_part-10_n_inputs-3_varDT-False_num_timesteps-10:v1\n",
      "gravity_n_part-10_n_inputs-3_varDT-True_num_timesteps-10 → seed=1 → segno: gravity_seed-1_n_part-10_n_inputs-3_varDT-True_num_timesteps-10:v1\n",
      "gravity_n_part-10_n_inputs-3_varDT-False_num_timesteps-10 → seed=1 → segno: gravity_seed-1_n_part-10_n_inputs-3_varDT-False_num_timesteps-10:v1\n",
      "gravity_n_part-10_n_inputs-2_varDT-True_num_timesteps-10 → seed=3 → segno: gravity_seed-3_n_part-10_n_inputs-2_varDT-True_num_timesteps-10:v1\n",
      "gravity_n_part-10_n_inputs-2_varDT-False_num_timesteps-10 → seed=3 → segno: gravity_seed-3_n_part-10_n_inputs-2_varDT-False_num_timesteps-10:v1\n",
      "gravity_n_part-10_n_inputs-2_varDT-True_num_timesteps-10 → seed=2 → segno: gravity_seed-2_n_part-10_n_inputs-2_varDT-True_num_timesteps-10:v1\n",
      "gravity_n_part-10_n_inputs-2_varDT-False_num_timesteps-10 → seed=2 → segno: gravity_seed-2_n_part-10_n_inputs-2_varDT-False_num_timesteps-10:v1\n",
      "gravity_n_part-10_n_inputs-2_varDT-True_num_timesteps-10 → seed=1 → segno: gravity_seed-1_n_part-10_n_inputs-2_varDT-True_num_timesteps-10:v1\n",
      "gravity_n_part-10_n_inputs-2_varDT-False_num_timesteps-10 → seed=1 → segno: gravity_seed-1_n_part-10_n_inputs-2_varDT-False_num_timesteps-10:v1\n",
      "gravity_n_part-5_n_inputs-3_varDT-True_num_timesteps-10 → seed=3 → segno: gravity_seed-3_n_part-5_n_inputs-3_varDT-True_num_timesteps-10:v1\n",
      "gravity_n_part-5_n_inputs-3_varDT-False_num_timesteps-10 → seed=3 → segno: gravity_seed-3_n_part-5_n_inputs-3_varDT-False_num_timesteps-10:v1\n",
      "gravity_n_part-5_n_inputs-3_varDT-True_num_timesteps-10 → seed=2 → segno: gravity_seed-2_n_part-5_n_inputs-3_varDT-True_num_timesteps-10:v1\n",
      "gravity_n_part-5_n_inputs-3_varDT-False_num_timesteps-10 → seed=2 → segno: gravity_seed-2_n_part-5_n_inputs-3_varDT-False_num_timesteps-10:v1\n",
      "gravity_n_part-5_n_inputs-3_varDT-True_num_timesteps-10 → seed=1 → segno: gravity_seed-1_n_part-5_n_inputs-3_varDT-True_num_timesteps-10:v1\n",
      "gravity_n_part-5_n_inputs-3_varDT-False_num_timesteps-10 → seed=1 → segno: gravity_seed-1_n_part-5_n_inputs-3_varDT-False_num_timesteps-10:v1\n",
      "gravity_n_part-5_n_inputs-2_varDT-True_num_timesteps-10 → seed=3 → segno: gravity_seed-3_n_part-5_n_inputs-2_varDT-True_num_timesteps-10:v1\n",
      "gravity_n_part-5_n_inputs-2_varDT-False_num_timesteps-10 → seed=3 → segno: gravity_seed-3_n_part-5_n_inputs-2_varDT-False_num_timesteps-10:v1\n",
      "gravity_n_part-5_n_inputs-2_varDT-True_num_timesteps-10 → seed=2 → segno: gravity_seed-2_n_part-5_n_inputs-2_varDT-True_num_timesteps-10:v1\n",
      "gravity_n_part-5_n_inputs-2_varDT-False_num_timesteps-10 → seed=2 → segno: gravity_seed-2_n_part-5_n_inputs-2_varDT-False_num_timesteps-10:v1\n",
      "gravity_n_part-5_n_inputs-2_varDT-True_num_timesteps-10 → seed=1 → segno: gravity_seed-1_n_part-5_n_inputs-2_varDT-True_num_timesteps-10:v1\n",
      "gravity_n_part-5_n_inputs-2_varDT-False_num_timesteps-10 → seed=1 → segno: gravity_seed-1_n_part-5_n_inputs-2_varDT-False_num_timesteps-10:v1\n",
      "gravity_n_part-20_n_inputs-3_varDT-True_num_timesteps-10 → seed=3 → egno: gravity_seed-3_n_part-20_n_inputs-3_varDT-True_num_timesteps-10:v1\n",
      "gravity_n_part-20_n_inputs-3_varDT-False_num_timesteps-10 → seed=3 → egno: gravity_seed-3_n_part-20_n_inputs-3_varDT-False_num_timesteps-10:v1\n",
      "gravity_n_part-20_n_inputs-3_varDT-True_num_timesteps-10 → seed=2 → egno: gravity_seed-2_n_part-20_n_inputs-3_varDT-True_num_timesteps-10:v0\n",
      "gravity_n_part-20_n_inputs-3_varDT-False_num_timesteps-10 → seed=2 → egno: gravity_seed-2_n_part-20_n_inputs-3_varDT-False_num_timesteps-10:v0\n",
      "gravity_n_part-20_n_inputs-3_varDT-True_num_timesteps-10 → seed=1 → egno: gravity_seed-1_n_part-20_n_inputs-3_varDT-True_num_timesteps-10:v0\n",
      "gravity_n_part-20_n_inputs-3_varDT-False_num_timesteps-10 → seed=1 → egno: gravity_seed-1_n_part-20_n_inputs-3_varDT-False_num_timesteps-10:v0\n",
      "gravity_n_part-20_n_inputs-2_varDT-True_num_timesteps-10 → seed=3 → egno: gravity_seed-3_n_part-20_n_inputs-2_varDT-True_num_timesteps-10:v0\n",
      "gravity_n_part-20_n_inputs-2_varDT-False_num_timesteps-10 → seed=3 → egno: gravity_seed-3_n_part-20_n_inputs-2_varDT-False_num_timesteps-10:v0\n",
      "gravity_n_part-20_n_inputs-2_varDT-True_num_timesteps-10 → seed=2 → egno: gravity_seed-2_n_part-20_n_inputs-2_varDT-True_num_timesteps-10:v0\n",
      "gravity_n_part-20_n_inputs-2_varDT-False_num_timesteps-10 → seed=2 → egno: gravity_seed-2_n_part-20_n_inputs-2_varDT-False_num_timesteps-10:v0\n",
      "gravity_n_part-20_n_inputs-2_varDT-True_num_timesteps-10 → seed=1 → egno: gravity_seed-1_n_part-20_n_inputs-2_varDT-True_num_timesteps-10:v0\n",
      "gravity_n_part-20_n_inputs-2_varDT-False_num_timesteps-10 → seed=1 → egno: gravity_seed-1_n_part-20_n_inputs-2_varDT-False_num_timesteps-10:v0\n",
      "gravity_n_part-10_n_inputs-3_varDT-True_num_timesteps-10 → seed=3 → egno: gravity_seed-3_n_part-10_n_inputs-3_varDT-True_num_timesteps-10:v0\n",
      "gravity_n_part-10_n_inputs-3_varDT-False_num_timesteps-10 → seed=3 → egno: gravity_seed-3_n_part-10_n_inputs-3_varDT-False_num_timesteps-10:v0\n",
      "gravity_n_part-10_n_inputs-3_varDT-True_num_timesteps-10 → seed=2 → egno: gravity_seed-2_n_part-10_n_inputs-3_varDT-True_num_timesteps-10:v0\n",
      "gravity_n_part-10_n_inputs-3_varDT-False_num_timesteps-10 → seed=2 → egno: gravity_seed-2_n_part-10_n_inputs-3_varDT-False_num_timesteps-10:v0\n",
      "gravity_n_part-10_n_inputs-3_varDT-True_num_timesteps-10 → seed=1 → egno: gravity_seed-1_n_part-10_n_inputs-3_varDT-True_num_timesteps-10:v0\n",
      "gravity_n_part-10_n_inputs-3_varDT-False_num_timesteps-10 → seed=1 → egno: gravity_seed-1_n_part-10_n_inputs-3_varDT-False_num_timesteps-10:v0\n",
      "gravity_n_part-10_n_inputs-2_varDT-True_num_timesteps-10 → seed=3 → egno: gravity_seed-3_n_part-10_n_inputs-2_varDT-True_num_timesteps-10:v0\n",
      "gravity_n_part-10_n_inputs-2_varDT-False_num_timesteps-10 → seed=3 → egno: gravity_seed-3_n_part-10_n_inputs-2_varDT-False_num_timesteps-10:v0\n",
      "gravity_n_part-10_n_inputs-2_varDT-True_num_timesteps-10 → seed=2 → egno: gravity_seed-2_n_part-10_n_inputs-2_varDT-True_num_timesteps-10:v0\n",
      "gravity_n_part-10_n_inputs-2_varDT-False_num_timesteps-10 → seed=2 → egno: gravity_seed-2_n_part-10_n_inputs-2_varDT-False_num_timesteps-10:v0\n",
      "gravity_n_part-10_n_inputs-2_varDT-True_num_timesteps-10 → seed=1 → egno: gravity_seed-1_n_part-10_n_inputs-2_varDT-True_num_timesteps-10:v0\n",
      "gravity_n_part-10_n_inputs-2_varDT-False_num_timesteps-10 → seed=1 → egno: gravity_seed-1_n_part-10_n_inputs-2_varDT-False_num_timesteps-10:v0\n",
      "gravity_n_part-5_n_inputs-3_varDT-True_num_timesteps-10 → seed=3 → egno: gravity_seed-3_n_part-5_n_inputs-3_varDT-True_num_timesteps-10:v0\n",
      "gravity_n_part-5_n_inputs-3_varDT-False_num_timesteps-10 → seed=3 → egno: gravity_seed-3_n_part-5_n_inputs-3_varDT-False_num_timesteps-10:v0\n",
      "gravity_n_part-5_n_inputs-3_varDT-True_num_timesteps-10 → seed=2 → egno: gravity_seed-2_n_part-5_n_inputs-3_varDT-True_num_timesteps-10:v0\n",
      "gravity_n_part-5_n_inputs-3_varDT-False_num_timesteps-10 → seed=2 → egno: gravity_seed-2_n_part-5_n_inputs-3_varDT-False_num_timesteps-10:v0\n",
      "gravity_n_part-5_n_inputs-3_varDT-True_num_timesteps-10 → seed=1 → egno: gravity_seed-1_n_part-5_n_inputs-3_varDT-True_num_timesteps-10:v0\n",
      "gravity_n_part-5_n_inputs-3_varDT-False_num_timesteps-10 → seed=1 → egno: gravity_seed-1_n_part-5_n_inputs-3_varDT-False_num_timesteps-10:v0\n",
      "gravity_n_part-5_n_inputs-2_varDT-True_num_timesteps-10 → seed=3 → egno: gravity_seed-3_n_part-5_n_inputs-2_varDT-True_num_timesteps-10:v0\n",
      "gravity_n_part-5_n_inputs-2_varDT-False_num_timesteps-10 → seed=3 → egno: gravity_seed-3_n_part-5_n_inputs-2_varDT-False_num_timesteps-10:v0\n",
      "gravity_n_part-5_n_inputs-2_varDT-True_num_timesteps-10 → seed=2 → egno: gravity_seed-2_n_part-5_n_inputs-2_varDT-True_num_timesteps-10:v0\n",
      "gravity_n_part-5_n_inputs-2_varDT-False_num_timesteps-10 → seed=2 → egno: gravity_seed-2_n_part-5_n_inputs-2_varDT-False_num_timesteps-10:v0\n",
      "gravity_n_part-5_n_inputs-2_varDT-True_num_timesteps-10 → seed=1 → egno: gravity_seed-1_n_part-5_n_inputs-2_varDT-True_num_timesteps-10:v0\n",
      "gravity_n_part-5_n_inputs-2_varDT-False_num_timesteps-10 → seed=1 → egno: gravity_seed-1_n_part-5_n_inputs-2_varDT-False_num_timesteps-10:v0\n",
      "charged_n_part-20_n_inputs-3_varDT-True_num_timesteps-10 → seed=3 → segno: charged_seed-3_n_part-20_n_inputs-3_varDT-True_num_timesteps-10:v1\n",
      "charged_n_part-20_n_inputs-3_varDT-False_num_timesteps-10 → seed=3 → segno: charged_seed-3_n_part-20_n_inputs-3_varDT-False_num_timesteps-10:v0\n",
      "charged_n_part-20_n_inputs-3_varDT-True_num_timesteps-10 → seed=2 → segno: charged_seed-2_n_part-20_n_inputs-3_varDT-True_num_timesteps-10:v1\n",
      "charged_n_part-20_n_inputs-3_varDT-False_num_timesteps-10 → seed=2 → segno: charged_seed-2_n_part-20_n_inputs-3_varDT-False_num_timesteps-10:v0\n",
      "charged_n_part-20_n_inputs-3_varDT-True_num_timesteps-10 → seed=1 → segno: charged_seed-1_n_part-20_n_inputs-3_varDT-True_num_timesteps-10:v1\n",
      "charged_n_part-20_n_inputs-3_varDT-False_num_timesteps-10 → seed=1 → segno: charged_seed-1_n_part-20_n_inputs-3_varDT-False_num_timesteps-10:v1\n",
      "charged_n_part-20_n_inputs-2_varDT-True_num_timesteps-10 → seed=3 → segno: charged_seed-3_n_part-20_n_inputs-2_varDT-True_num_timesteps-10:v1\n",
      "charged_n_part-20_n_inputs-2_varDT-False_num_timesteps-10 → seed=3 → segno: charged_seed-3_n_part-20_n_inputs-2_varDT-False_num_timesteps-10:v1\n",
      "charged_n_part-20_n_inputs-2_varDT-True_num_timesteps-10 → seed=2 → segno: charged_seed-2_n_part-20_n_inputs-2_varDT-True_num_timesteps-10:v1\n",
      "charged_n_part-20_n_inputs-2_varDT-False_num_timesteps-10 → seed=2 → segno: charged_seed-2_n_part-20_n_inputs-2_varDT-False_num_timesteps-10:v1\n",
      "charged_n_part-20_n_inputs-2_varDT-True_num_timesteps-10 → seed=1 → segno: charged_seed-1_n_part-20_n_inputs-2_varDT-True_num_timesteps-10:v1\n",
      "charged_n_part-20_n_inputs-2_varDT-False_num_timesteps-10 → seed=1 → segno: charged_seed-1_n_part-20_n_inputs-2_varDT-False_num_timesteps-10:v1\n",
      "charged_n_part-10_n_inputs-3_varDT-True_num_timesteps-10 → seed=3 → segno: charged_seed-3_n_part-10_n_inputs-3_varDT-True_num_timesteps-10:v1\n",
      "charged_n_part-10_n_inputs-3_varDT-False_num_timesteps-10 → seed=3 → segno: charged_seed-3_n_part-10_n_inputs-3_varDT-False_num_timesteps-10:v1\n",
      "charged_n_part-10_n_inputs-3_varDT-True_num_timesteps-10 → seed=2 → segno: charged_seed-2_n_part-10_n_inputs-3_varDT-True_num_timesteps-10:v1\n",
      "charged_n_part-10_n_inputs-3_varDT-False_num_timesteps-10 → seed=2 → segno: charged_seed-2_n_part-10_n_inputs-3_varDT-False_num_timesteps-10:v1\n",
      "charged_n_part-10_n_inputs-3_varDT-True_num_timesteps-10 → seed=1 → segno: charged_seed-1_n_part-10_n_inputs-3_varDT-True_num_timesteps-10:v1\n",
      "charged_n_part-10_n_inputs-3_varDT-False_num_timesteps-10 → seed=1 → segno: charged_seed-1_n_part-10_n_inputs-3_varDT-False_num_timesteps-10:v1\n",
      "charged_n_part-10_n_inputs-2_varDT-True_num_timesteps-10 → seed=3 → segno: charged_seed-3_n_part-10_n_inputs-2_varDT-True_num_timesteps-10:v1\n",
      "charged_n_part-10_n_inputs-2_varDT-False_num_timesteps-10 → seed=3 → segno: charged_seed-3_n_part-10_n_inputs-2_varDT-False_num_timesteps-10:v1\n",
      "charged_n_part-10_n_inputs-2_varDT-True_num_timesteps-10 → seed=2 → segno: charged_seed-2_n_part-10_n_inputs-2_varDT-True_num_timesteps-10:v1\n",
      "charged_n_part-10_n_inputs-2_varDT-False_num_timesteps-10 → seed=2 → segno: charged_seed-2_n_part-10_n_inputs-2_varDT-False_num_timesteps-10:v1\n",
      "charged_n_part-10_n_inputs-2_varDT-True_num_timesteps-10 → seed=1 → segno: charged_seed-1_n_part-10_n_inputs-2_varDT-True_num_timesteps-10:v1\n",
      "charged_n_part-10_n_inputs-2_varDT-False_num_timesteps-10 → seed=1 → segno: charged_seed-1_n_part-10_n_inputs-2_varDT-False_num_timesteps-10:v1\n",
      "charged_n_part-5_n_inputs-3_varDT-False_num_timesteps-10 → seed=3 → segno: charged_seed-3_n_part-5_n_inputs-3_varDT-False_num_timesteps-10:v1\n",
      "charged_n_part-5_n_inputs-3_varDT-True_num_timesteps-10 → seed=3 → segno: charged_seed-3_n_part-5_n_inputs-3_varDT-True_num_timesteps-10:v1\n",
      "charged_n_part-5_n_inputs-3_varDT-True_num_timesteps-10 → seed=2 → segno: charged_seed-2_n_part-5_n_inputs-3_varDT-True_num_timesteps-10:v1\n",
      "charged_n_part-5_n_inputs-3_varDT-False_num_timesteps-10 → seed=2 → segno: charged_seed-2_n_part-5_n_inputs-3_varDT-False_num_timesteps-10:v1\n",
      "charged_n_part-5_n_inputs-3_varDT-True_num_timesteps-10 → seed=1 → segno: charged_seed-1_n_part-5_n_inputs-3_varDT-True_num_timesteps-10:v1\n",
      "charged_n_part-5_n_inputs-3_varDT-False_num_timesteps-10 → seed=1 → segno: charged_seed-1_n_part-5_n_inputs-3_varDT-False_num_timesteps-10:v1\n",
      "charged_n_part-5_n_inputs-2_varDT-True_num_timesteps-10 → seed=3 → segno: charged_seed-3_n_part-5_n_inputs-2_varDT-True_num_timesteps-10:v1\n",
      "charged_n_part-5_n_inputs-2_varDT-False_num_timesteps-10 → seed=3 → segno: charged_seed-3_n_part-5_n_inputs-2_varDT-False_num_timesteps-10:v1\n",
      "charged_n_part-5_n_inputs-2_varDT-True_num_timesteps-10 → seed=2 → segno: charged_seed-2_n_part-5_n_inputs-2_varDT-True_num_timesteps-10:v1\n",
      "charged_n_part-5_n_inputs-2_varDT-False_num_timesteps-10 → seed=2 → segno: charged_seed-2_n_part-5_n_inputs-2_varDT-False_num_timesteps-10:v1\n",
      "charged_n_part-5_n_inputs-2_varDT-True_num_timesteps-10 → seed=1 → segno: charged_seed-1_n_part-5_n_inputs-2_varDT-True_num_timesteps-10:v1\n",
      "charged_n_part-5_n_inputs-2_varDT-False_num_timesteps-10 → seed=1 → segno: charged_seed-1_n_part-5_n_inputs-2_varDT-False_num_timesteps-10:v2\n",
      "charged_n_part-20_n_inputs-3_varDT-True_num_timesteps-10 → seed=3 → egno: charged_seed-3_n_part-20_n_inputs-3_varDT-True_num_timesteps-10:v0\n",
      "charged_n_part-20_n_inputs-3_varDT-False_num_timesteps-10 → seed=3 → egno: charged_seed-3_n_part-20_n_inputs-3_varDT-False_num_timesteps-10:v1\n",
      "charged_n_part-20_n_inputs-3_varDT-True_num_timesteps-10 → seed=2 → egno: charged_seed-2_n_part-20_n_inputs-3_varDT-True_num_timesteps-10:v0\n",
      "charged_n_part-20_n_inputs-3_varDT-False_num_timesteps-10 → seed=2 → egno: charged_seed-2_n_part-20_n_inputs-3_varDT-False_num_timesteps-10:v1\n",
      "charged_n_part-20_n_inputs-3_varDT-True_num_timesteps-10 → seed=1 → egno: charged_seed-1_n_part-20_n_inputs-3_varDT-True_num_timesteps-10:v0\n",
      "charged_n_part-20_n_inputs-3_varDT-False_num_timesteps-10 → seed=1 → egno: charged_seed-1_n_part-20_n_inputs-3_varDT-False_num_timesteps-10:v0\n",
      "charged_n_part-20_n_inputs-2_varDT-True_num_timesteps-10 → seed=3 → egno: charged_seed-3_n_part-20_n_inputs-2_varDT-True_num_timesteps-10:v0\n",
      "charged_n_part-20_n_inputs-2_varDT-False_num_timesteps-10 → seed=3 → egno: charged_seed-3_n_part-20_n_inputs-2_varDT-False_num_timesteps-10:v0\n",
      "charged_n_part-20_n_inputs-2_varDT-True_num_timesteps-10 → seed=2 → egno: charged_seed-2_n_part-20_n_inputs-2_varDT-True_num_timesteps-10:v0\n",
      "charged_n_part-20_n_inputs-2_varDT-False_num_timesteps-10 → seed=2 → egno: charged_seed-2_n_part-20_n_inputs-2_varDT-False_num_timesteps-10:v0\n",
      "charged_n_part-20_n_inputs-2_varDT-True_num_timesteps-10 → seed=1 → egno: charged_seed-1_n_part-20_n_inputs-2_varDT-True_num_timesteps-10:v0\n",
      "charged_n_part-20_n_inputs-2_varDT-False_num_timesteps-10 → seed=1 → egno: charged_seed-1_n_part-20_n_inputs-2_varDT-False_num_timesteps-10:v0\n",
      "charged_n_part-10_n_inputs-3_varDT-True_num_timesteps-10 → seed=3 → egno: charged_seed-3_n_part-10_n_inputs-3_varDT-True_num_timesteps-10:v0\n",
      "charged_n_part-10_n_inputs-3_varDT-False_num_timesteps-10 → seed=3 → egno: charged_seed-3_n_part-10_n_inputs-3_varDT-False_num_timesteps-10:v0\n",
      "charged_n_part-10_n_inputs-3_varDT-True_num_timesteps-10 → seed=2 → egno: charged_seed-2_n_part-10_n_inputs-3_varDT-True_num_timesteps-10:v0\n",
      "charged_n_part-10_n_inputs-3_varDT-False_num_timesteps-10 → seed=2 → egno: charged_seed-2_n_part-10_n_inputs-3_varDT-False_num_timesteps-10:v0\n",
      "charged_n_part-10_n_inputs-3_varDT-True_num_timesteps-10 → seed=1 → egno: charged_seed-1_n_part-10_n_inputs-3_varDT-True_num_timesteps-10:v0\n",
      "charged_n_part-10_n_inputs-3_varDT-False_num_timesteps-10 → seed=1 → egno: charged_seed-1_n_part-10_n_inputs-3_varDT-False_num_timesteps-10:v0\n",
      "charged_n_part-10_n_inputs-2_varDT-True_num_timesteps-10 → seed=3 → egno: charged_seed-3_n_part-10_n_inputs-2_varDT-True_num_timesteps-10:v0\n",
      "charged_n_part-10_n_inputs-2_varDT-False_num_timesteps-10 → seed=3 → egno: charged_seed-3_n_part-10_n_inputs-2_varDT-False_num_timesteps-10:v0\n",
      "charged_n_part-10_n_inputs-2_varDT-True_num_timesteps-10 → seed=2 → egno: charged_seed-2_n_part-10_n_inputs-2_varDT-True_num_timesteps-10:v0\n",
      "charged_n_part-10_n_inputs-2_varDT-False_num_timesteps-10 → seed=2 → egno: charged_seed-2_n_part-10_n_inputs-2_varDT-False_num_timesteps-10:v0\n",
      "charged_n_part-10_n_inputs-2_varDT-True_num_timesteps-10 → seed=1 → egno: charged_seed-1_n_part-10_n_inputs-2_varDT-True_num_timesteps-10:v0\n",
      "charged_n_part-10_n_inputs-2_varDT-False_num_timesteps-10 → seed=1 → egno: charged_seed-1_n_part-10_n_inputs-2_varDT-False_num_timesteps-10:v0\n",
      "charged_n_part-5_n_inputs-3_varDT-True_num_timesteps-10 → seed=3 → egno: charged_seed-3_n_part-5_n_inputs-3_varDT-True_num_timesteps-10:v0\n",
      "charged_n_part-5_n_inputs-3_varDT-False_num_timesteps-10 → seed=3 → egno: charged_seed-3_n_part-5_n_inputs-3_varDT-False_num_timesteps-10:v0\n",
      "charged_n_part-5_n_inputs-3_varDT-True_num_timesteps-10 → seed=2 → egno: charged_seed-2_n_part-5_n_inputs-3_varDT-True_num_timesteps-10:v0\n",
      "charged_n_part-5_n_inputs-3_varDT-False_num_timesteps-10 → seed=2 → egno: charged_seed-2_n_part-5_n_inputs-3_varDT-False_num_timesteps-10:v0\n",
      "charged_n_part-5_n_inputs-3_varDT-True_num_timesteps-10 → seed=1 → egno: charged_seed-1_n_part-5_n_inputs-3_varDT-True_num_timesteps-10:v0\n",
      "charged_n_part-5_n_inputs-3_varDT-False_num_timesteps-10 → seed=1 → egno: charged_seed-1_n_part-5_n_inputs-3_varDT-False_num_timesteps-10:v0\n",
      "charged_n_part-5_n_inputs-2_varDT-True_num_timesteps-10 → seed=3 → egno: charged_seed-3_n_part-5_n_inputs-2_varDT-True_num_timesteps-10:v0\n",
      "charged_n_part-5_n_inputs-2_varDT-False_num_timesteps-10 → seed=3 → egno: charged_seed-3_n_part-5_n_inputs-2_varDT-False_num_timesteps-10:v0\n",
      "charged_n_part-5_n_inputs-2_varDT-True_num_timesteps-10 → seed=2 → egno: charged_seed-2_n_part-5_n_inputs-2_varDT-True_num_timesteps-10:v0\n",
      "charged_n_part-5_n_inputs-2_varDT-False_num_timesteps-10 → seed=2 → egno: charged_seed-2_n_part-5_n_inputs-2_varDT-False_num_timesteps-10:v0\n",
      "charged_n_part-5_n_inputs-2_varDT-True_num_timesteps-10 → seed=1 → egno: charged_seed-1_n_part-5_n_inputs-2_varDT-True_num_timesteps-10:v0\n",
      "charged_n_part-5_n_inputs-2_varDT-False_num_timesteps-10 → seed=1 → egno: charged_seed-1_n_part-5_n_inputs-2_varDT-False_num_timesteps-10:v1\n",
      "gravity_n_part-20_n_inputs-1_varDT-False_num_timesteps-10 → seed=3 → segno: gravity_seed-3_n_part-20_n_inputs-1_varDT-False_num_timesteps-10:v1\n",
      "gravity_n_part-20_n_inputs-1_varDT-False_num_timesteps-10 → seed=2 → segno: gravity_seed-2_n_part-20_n_inputs-1_varDT-False_num_timesteps-10:v1\n",
      "gravity_n_part-20_n_inputs-1_varDT-False_num_timesteps-10 → seed=1 → segno: gravity_seed-1_n_part-20_n_inputs-1_varDT-False_num_timesteps-10:v1\n",
      "gravity_n_part-10_n_inputs-1_varDT-False_num_timesteps-10 → seed=3 → segno: gravity_seed-3_n_part-10_n_inputs-1_varDT-False_num_timesteps-10:v1\n",
      "gravity_n_part-10_n_inputs-1_varDT-False_num_timesteps-10 → seed=2 → segno: gravity_seed-2_n_part-10_n_inputs-1_varDT-False_num_timesteps-10:v1\n",
      "gravity_n_part-10_n_inputs-1_varDT-False_num_timesteps-10 → seed=1 → segno: gravity_seed-1_n_part-10_n_inputs-1_varDT-False_num_timesteps-10:v1\n",
      "charged_n_part-20_n_inputs-1_varDT-False_num_timesteps-10 → seed=3 → segno: charged_seed-3_n_part-20_n_inputs-1_varDT-False_num_timesteps-10:v1\n",
      "gravity_n_part-5_n_inputs-1_varDT-False_num_timesteps-10 → seed=3 → segno: gravity_seed-3_n_part-5_n_inputs-1_varDT-False_num_timesteps-10:v1\n",
      "gravity_n_part-20_n_inputs-1_varDT-False_num_timesteps-10 → seed=3 → egno: gravity_seed-3_n_part-20_n_inputs-1_varDT-False_num_timesteps-10:v0\n",
      "gravity_n_part-20_n_inputs-1_varDT-False_num_timesteps-10 → seed=2 → egno: gravity_seed-2_n_part-20_n_inputs-1_varDT-False_num_timesteps-10:v0\n",
      "gravity_n_part-20_n_inputs-1_varDT-False_num_timesteps-10 → seed=1 → egno: gravity_seed-1_n_part-20_n_inputs-1_varDT-False_num_timesteps-10:v0\n",
      "gravity_n_part-10_n_inputs-1_varDT-False_num_timesteps-10 → seed=3 → egno: gravity_seed-3_n_part-10_n_inputs-1_varDT-False_num_timesteps-10:v0\n",
      "gravity_n_part-10_n_inputs-1_varDT-False_num_timesteps-10 → seed=2 → egno: gravity_seed-2_n_part-10_n_inputs-1_varDT-False_num_timesteps-10:v0\n",
      "gravity_n_part-10_n_inputs-1_varDT-False_num_timesteps-10 → seed=1 → egno: gravity_seed-1_n_part-10_n_inputs-1_varDT-False_num_timesteps-10:v0\n",
      "gravity_n_part-5_n_inputs-1_varDT-False_num_timesteps-10 → seed=3 → egno: gravity_seed-3_n_part-5_n_inputs-1_varDT-False_num_timesteps-10:v0\n",
      "gravity_n_part-5_n_inputs-1_varDT-False_num_timesteps-10 → seed=2 → egno: gravity_seed-2_n_part-5_n_inputs-1_varDT-False_num_timesteps-10:v0\n",
      "gravity_n_part-5_n_inputs-1_varDT-False_num_timesteps-10 → seed=1 → egno: gravity_seed-1_n_part-5_n_inputs-1_varDT-False_num_timesteps-10:v0\n",
      "charged_n_part-20_n_inputs-1_varDT-False_num_timesteps-10 → seed=3 → egno: charged_seed-3_n_part-20_n_inputs-1_varDT-False_num_timesteps-10:v0\n",
      "charged_n_part-20_n_inputs-1_varDT-False_num_timesteps-10 → seed=2 → egno: charged_seed-2_n_part-20_n_inputs-1_varDT-False_num_timesteps-10:v0\n",
      "charged_n_part-20_n_inputs-1_varDT-False_num_timesteps-10 → seed=1 → egno: charged_seed-1_n_part-20_n_inputs-1_varDT-False_num_timesteps-10:v0\n",
      "charged_n_part-10_n_inputs-1_varDT-False_num_timesteps-10 → seed=3 → egno: charged_seed-3_n_part-10_n_inputs-1_varDT-False_num_timesteps-10:v0\n",
      "charged_n_part-10_n_inputs-1_varDT-False_num_timesteps-10 → seed=2 → egno: charged_seed-2_n_part-10_n_inputs-1_varDT-False_num_timesteps-10:v0\n",
      "charged_n_part-10_n_inputs-1_varDT-False_num_timesteps-10 → seed=1 → egno: charged_seed-1_n_part-10_n_inputs-1_varDT-False_num_timesteps-10:v0\n",
      "charged_n_part-5_n_inputs-1_varDT-False_num_timesteps-10 → seed=3 → egno: charged_seed-3_n_part-5_n_inputs-1_varDT-False_num_timesteps-10:v0\n",
      "charged_n_part-5_n_inputs-1_varDT-False_num_timesteps-10 → seed=2 → egno: charged_seed-2_n_part-5_n_inputs-1_varDT-False_num_timesteps-10:v0\n",
      "charged_n_part-5_n_inputs-1_varDT-False_num_timesteps-10 → seed=1 → egno: charged_seed-1_n_part-5_n_inputs-1_varDT-False_num_timesteps-10:v0\n",
      "charged_n_part-5_n_inputs-5_varDT-False_num_timesteps-5 → seed=1 → egno: charged_seed-1_n_part-5_n_inputs-5_varDT-False_num_timesteps-5:v0\n",
      "charged_n_part-5_n_inputs-2_varDT-False_num_timesteps-10 → seed=1 → egno: charged_seed-1_n_part-5_n_inputs-2_varDT-False_num_timesteps-10:v0\n",
      "charged_n_part-5_n_inputs-2_varDT-False_num_timesteps-5 → seed=1 → egno: charged_seed-1_n_part-5_n_inputs-2_varDT-False_num_timesteps-5:v0\n",
      "charged_n_part-5_n_inputs-2_varDT-False_num_timesteps-2 → seed=1 → egno: charged_seed-1_n_part-5_n_inputs-2_varDT-False_num_timesteps-2:v0\n",
      "n_part-50_n_inputs-5_varDT-False_num_timesteps-10 → seed=3 → segno: seed-3_n_part-50_n_inputs-5_varDT-False_num_timesteps-10:v0\n",
      "n_part-50_n_inputs-5_varDT-False_num_timesteps-10 → seed=2 → segno: seed-2_n_part-50_n_inputs-5_varDT-False_num_timesteps-10:v0\n",
      "n_part-50_n_inputs-5_varDT-False_num_timesteps-10 → seed=1 → segno: seed-1_n_part-50_n_inputs-5_varDT-False_num_timesteps-10:v0\n",
      "n_part-50_n_inputs-5_varDT-False_num_timesteps-5 → seed=3 → segno: seed-3_n_part-50_n_inputs-5_varDT-False_num_timesteps-5:v0\n",
      "n_part-50_n_inputs-5_varDT-False_num_timesteps-5 → seed=2 → segno: seed-2_n_part-50_n_inputs-5_varDT-False_num_timesteps-5:v0\n",
      "n_part-50_n_inputs-5_varDT-False_num_timesteps-5 → seed=1 → segno: seed-1_n_part-50_n_inputs-5_varDT-False_num_timesteps-5:v0\n",
      "n_part-50_n_inputs-5_varDT-False_num_timesteps-2 → seed=3 → segno: seed-3_n_part-50_n_inputs-5_varDT-False_num_timesteps-2:v0\n",
      "n_part-50_n_inputs-5_varDT-False_num_timesteps-2 → seed=2 → segno: seed-2_n_part-50_n_inputs-5_varDT-False_num_timesteps-2:v0\n",
      "n_part-50_n_inputs-5_varDT-False_num_timesteps-2 → seed=1 → segno: seed-1_n_part-50_n_inputs-5_varDT-False_num_timesteps-2:v0\n",
      "n_part-50_n_inputs-2_varDT-False_num_timesteps-10 → seed=2 → segno: seed-2_n_part-50_n_inputs-2_varDT-False_num_timesteps-10:v0\n",
      "n_part-50_n_inputs-2_varDT-False_num_timesteps-10 → seed=3 → segno: seed-3_n_part-50_n_inputs-2_varDT-False_num_timesteps-10:v0\n",
      "n_part-50_n_inputs-2_varDT-False_num_timesteps-10 → seed=1 → segno: seed-1_n_part-50_n_inputs-2_varDT-False_num_timesteps-10:v0\n",
      "n_part-50_n_inputs-2_varDT-False_num_timesteps-5 → seed=3 → segno: seed-3_n_part-50_n_inputs-2_varDT-False_num_timesteps-5:v0\n",
      "n_part-50_n_inputs-2_varDT-False_num_timesteps-5 → seed=1 → segno: seed-1_n_part-50_n_inputs-2_varDT-False_num_timesteps-5:v0\n",
      "n_part-50_n_inputs-2_varDT-False_num_timesteps-5 → seed=2 → segno: seed-2_n_part-50_n_inputs-2_varDT-False_num_timesteps-5:v0\n",
      "n_part-50_n_inputs-2_varDT-False_num_timesteps-2 → seed=3 → segno: seed-3_n_part-50_n_inputs-2_varDT-False_num_timesteps-2:v0\n",
      "n_part-50_n_inputs-2_varDT-False_num_timesteps-2 → seed=2 → segno: seed-2_n_part-50_n_inputs-2_varDT-False_num_timesteps-2:v0\n",
      "n_part-50_n_inputs-2_varDT-False_num_timesteps-2 → seed=1 → segno: seed-1_n_part-50_n_inputs-2_varDT-False_num_timesteps-2:v0\n",
      "n_part-20_n_inputs-5_varDT-False_num_timesteps-10 → seed=3 → segno: seed-3_n_part-20_n_inputs-5_varDT-False_num_timesteps-10:v0\n",
      "n_part-20_n_inputs-5_varDT-False_num_timesteps-10 → seed=2 → segno: seed-2_n_part-20_n_inputs-5_varDT-False_num_timesteps-10:v0\n",
      "n_part-20_n_inputs-5_varDT-False_num_timesteps-10 → seed=1 → segno: seed-1_n_part-20_n_inputs-5_varDT-False_num_timesteps-10:v0\n",
      "n_part-20_n_inputs-5_varDT-False_num_timesteps-5 → seed=3 → segno: seed-3_n_part-20_n_inputs-5_varDT-False_num_timesteps-5:v0\n",
      "n_part-20_n_inputs-5_varDT-False_num_timesteps-5 → seed=2 → segno: seed-2_n_part-20_n_inputs-5_varDT-False_num_timesteps-5:v0\n",
      "n_part-20_n_inputs-5_varDT-False_num_timesteps-5 → seed=1 → segno: seed-1_n_part-20_n_inputs-5_varDT-False_num_timesteps-5:v0\n",
      "n_part-20_n_inputs-5_varDT-False_num_timesteps-2 → seed=3 → segno: seed-3_n_part-20_n_inputs-5_varDT-False_num_timesteps-2:v0\n",
      "n_part-20_n_inputs-5_varDT-False_num_timesteps-2 → seed=2 → segno: seed-2_n_part-20_n_inputs-5_varDT-False_num_timesteps-2:v0\n",
      "n_part-20_n_inputs-5_varDT-False_num_timesteps-2 → seed=1 → segno: seed-1_n_part-20_n_inputs-5_varDT-False_num_timesteps-2:v0\n",
      "n_part-20_n_inputs-2_varDT-False_num_timesteps-10 → seed=3 → segno: seed-3_n_part-20_n_inputs-2_varDT-False_num_timesteps-10:v0\n",
      "n_part-20_n_inputs-2_varDT-False_num_timesteps-10 → seed=2 → segno: seed-2_n_part-20_n_inputs-2_varDT-False_num_timesteps-10:v0\n",
      "n_part-20_n_inputs-2_varDT-False_num_timesteps-10 → seed=1 → segno: seed-1_n_part-20_n_inputs-2_varDT-False_num_timesteps-10:v0\n",
      "n_part-20_n_inputs-2_varDT-False_num_timesteps-5 → seed=3 → segno: seed-3_n_part-20_n_inputs-2_varDT-False_num_timesteps-5:v0\n",
      "n_part-20_n_inputs-2_varDT-False_num_timesteps-5 → seed=2 → segno: seed-2_n_part-20_n_inputs-2_varDT-False_num_timesteps-5:v0\n",
      "n_part-20_n_inputs-2_varDT-False_num_timesteps-5 → seed=1 → segno: seed-1_n_part-20_n_inputs-2_varDT-False_num_timesteps-5:v0\n",
      "n_part-20_n_inputs-2_varDT-False_num_timesteps-2 → seed=3 → segno: seed-3_n_part-20_n_inputs-2_varDT-False_num_timesteps-2:v0\n",
      "n_part-20_n_inputs-2_varDT-False_num_timesteps-2 → seed=2 → segno: seed-2_n_part-20_n_inputs-2_varDT-False_num_timesteps-2:v0\n",
      "n_part-20_n_inputs-2_varDT-False_num_timesteps-2 → seed=1 → segno: seed-1_n_part-20_n_inputs-2_varDT-False_num_timesteps-2:v0\n",
      "n_part-5_n_inputs-5_varDT-False_num_timesteps-10 → seed=3 → segno: seed-3_n_part-5_n_inputs-5_varDT-False_num_timesteps-10:v0\n",
      "n_part-5_n_inputs-5_varDT-False_num_timesteps-10 → seed=2 → segno: seed-2_n_part-5_n_inputs-5_varDT-False_num_timesteps-10:v0\n",
      "n_part-5_n_inputs-5_varDT-False_num_timesteps-10 → seed=1 → segno: seed-1_n_part-5_n_inputs-5_varDT-False_num_timesteps-10:v0\n",
      "n_part-5_n_inputs-5_varDT-False_num_timesteps-5 → seed=3 → segno: seed-3_n_part-5_n_inputs-5_varDT-False_num_timesteps-5:v0\n",
      "n_part-5_n_inputs-5_varDT-False_num_timesteps-5 → seed=2 → segno: seed-2_n_part-5_n_inputs-5_varDT-False_num_timesteps-5:v0\n",
      "n_part-5_n_inputs-5_varDT-False_num_timesteps-5 → seed=1 → segno: seed-1_n_part-5_n_inputs-5_varDT-False_num_timesteps-5:v0\n",
      "n_part-5_n_inputs-5_varDT-False_num_timesteps-2 → seed=3 → segno: seed-3_n_part-5_n_inputs-5_varDT-False_num_timesteps-2:v0\n",
      "n_part-5_n_inputs-5_varDT-False_num_timesteps-2 → seed=2 → segno: seed-2_n_part-5_n_inputs-5_varDT-False_num_timesteps-2:v0\n",
      "n_part-5_n_inputs-5_varDT-False_num_timesteps-2 → seed=1 → segno: seed-1_n_part-5_n_inputs-5_varDT-False_num_timesteps-2:v0\n",
      "n_part-5_n_inputs-2_varDT-False_num_timesteps-10 → seed=3 → segno: seed-3_n_part-5_n_inputs-2_varDT-False_num_timesteps-10:v0\n",
      "n_part-5_n_inputs-2_varDT-False_num_timesteps-10 → seed=2 → segno: seed-2_n_part-5_n_inputs-2_varDT-False_num_timesteps-10:v0\n",
      "n_part-5_n_inputs-2_varDT-False_num_timesteps-10 → seed=1 → segno: seed-1_n_part-5_n_inputs-2_varDT-False_num_timesteps-10:v0\n",
      "n_part-5_n_inputs-2_varDT-False_num_timesteps-5 → seed=3 → segno: seed-3_n_part-5_n_inputs-2_varDT-False_num_timesteps-5:v0\n",
      "n_part-5_n_inputs-2_varDT-False_num_timesteps-5 → seed=2 → segno: seed-2_n_part-5_n_inputs-2_varDT-False_num_timesteps-5:v0\n",
      "n_part-5_n_inputs-2_varDT-False_num_timesteps-5 → seed=1 → segno: seed-1_n_part-5_n_inputs-2_varDT-False_num_timesteps-5:v0\n",
      "n_part-5_n_inputs-2_varDT-False_num_timesteps-2 → seed=3 → segno: seed-3_n_part-5_n_inputs-2_varDT-False_num_timesteps-2:v0\n",
      "n_part-5_n_inputs-2_varDT-False_num_timesteps-2 → seed=2 → segno: seed-2_n_part-5_n_inputs-2_varDT-False_num_timesteps-2:v0\n",
      "n_part-5_n_inputs-2_varDT-False_num_timesteps-2 → seed=1 → segno: seed-1_n_part-5_n_inputs-2_varDT-False_num_timesteps-2:v0\n",
      "n_part-20_n_inputs-5_varDT-False_num_timesteps-5 → seed=3 → egno: seed-3_n_part-20_n_inputs-5_varDT-False_num_timesteps-5:v1\n",
      "n_part-20_n_inputs-5_varDT-False_num_timesteps-5 → seed=2 → egno: seed-2_n_part-20_n_inputs-5_varDT-False_num_timesteps-5:v1\n",
      "n_part-20_n_inputs-5_varDT-False_num_timesteps-5 → seed=1 → egno: seed-1_n_part-20_n_inputs-5_varDT-False_num_timesteps-5:v1\n",
      "n_part-5_n_inputs-1_varDT-False_num_timesteps-10 → seed=42 → egno: seed-42_n_part-5_n_inputs-1_varDT-False_num_timesteps-10:v0\n"
     ]
    }
   ],
   "source": [
    "import csv\n",
    "import re\n",
    "from wandb.apis.public import Api, Run\n",
    "import json\n",
    "from collections import defaultdict\n",
    "\n",
    "api = Api()\n",
    "\n",
    "# Nested dict: { modified_name: { seed: { model_type: version } } }\n",
    "artifact_map = defaultdict(lambda: defaultdict(dict))\n",
    "\n",
    "csv_path = \"wandb_export_complete.csv\"\n",
    "\n",
    "with open(csv_path, newline='') as csvfile:\n",
    "    reader = csv.DictReader(csvfile)\n",
    "    \n",
    "    for row in reader:\n",
    "        run_id = row[\"ID\"]  # or your actual column name\n",
    "\n",
    "        try:\n",
    "            run = Run(\n",
    "                client=api.client,\n",
    "                entity=\"jet-tagging\",\n",
    "                project=\"Particle-Physics\",\n",
    "                run_id=run_id,\n",
    "                include_sweeps=True,\n",
    "            )\n",
    "\n",
    "            model_type = run.config.get(\"model\", \"UNKNOWN\")\n",
    "            seed = str(run.config.get(\"seed\", \"unknown\"))\n",
    "\n",
    "            for art in run.logged_artifacts():\n",
    "                if art.name.startswith(\"run\"):\n",
    "                    continue  # Skip internal/input artifacts\n",
    "\n",
    "                name_parts = art.name.split(\":\")\n",
    "                full_name = name_parts[0]\n",
    "                version = name_parts[1] if len(name_parts) > 1 else \"unknown\"\n",
    "\n",
    "                # Remove `seed=...` from name using regex\n",
    "                modified_name = re.sub(r\"seed-\\d+_?\", \"\", full_name)\n",
    "\n",
    "                artifact_map[modified_name][model_type][seed] = art.name\n",
    "\n",
    "                print(f\"{modified_name} → seed={seed} → {model_type}: {art.name}\")\n",
    "\n",
    "        except Exception as e:\n",
    "            print(f\"Error processing run {run_id}: {e}\")\n",
    "\n",
    "# Convert to regular dict and save\n",
    "with open(\"artifact_model_map_complete.json\", \"w\") as f:\n",
    "    json.dump(dict(artifact_map), f, indent=2)\n"
   ]
  },
  {
   "cell_type": "code",
   "execution_count": 9,
   "id": "3475091a",
   "metadata": {},
   "outputs": [
    {
     "name": "stdout",
     "output_type": "stream",
     "text": [
      "{'segno': {'2': 'charged_seed-2_n_part-20_n_inputs-1_varDT-False_num_timesteps-10:v1', '3': 'charged_seed-3_n_part-20_n_inputs-1_varDT-False_num_timesteps-10:v1'}, 'egno': {'3': 'charged_seed-3_n_part-20_n_inputs-1_varDT-False_num_timesteps-10:v0', '2': 'charged_seed-2_n_part-20_n_inputs-1_varDT-False_num_timesteps-10:v0', '1': 'charged_seed-1_n_part-20_n_inputs-1_varDT-False_num_timesteps-10:v0'}}\n"
     ]
    }
   ],
   "source": [
    "import json\n",
    "\n",
    "def load_artifact():\n",
    "    # Load JSON file into a Python dict\n",
    "    with open(\"artifact_model_map_complete.json\", \"r\") as f:\n",
    "        data = json.load(f)\n",
    "    return data\n",
    "\n",
    "print(data[\"charged_n_part-20_n_inputs-1_varDT-False_num_timesteps-10\"])  # <class 'dict'>\n"
   ]
  },
  {
   "cell_type": "markdown",
   "id": "064949d2",
   "metadata": {},
   "source": [
    "## test gen"
   ]
  },
  {
   "cell_type": "code",
   "execution_count": null,
   "id": "a008f36e",
   "metadata": {},
   "outputs": [
    {
     "name": "stdout",
     "output_type": "stream",
     "text": [
      "gravity_seed-2_n_part-5_n_inputs-1_varDT-False_num_timesteps-10 → model: segno, version: v1\n",
      "gravity_seed-1_n_part-5_n_inputs-1_varDT-False_num_timesteps-10 → model: segno, version: v1\n",
      "charged_seed-2_n_part-20_n_inputs-1_varDT-False_num_timesteps-10 → model: segno, version: v1\n",
      "charged_seed-1_n_part-5_n_inputs-1_varDT-False_num_timesteps-10 → model: segno, version: v1\n",
      "gravity_seed-3_n_part-20_n_inputs-1_varDT-False_num_timesteps-10 → model: segno, version: v1\n",
      "gravity_seed-2_n_part-20_n_inputs-1_varDT-False_num_timesteps-10 → model: segno, version: v1\n",
      "gravity_seed-1_n_part-20_n_inputs-1_varDT-False_num_timesteps-10 → model: segno, version: v1\n",
      "gravity_seed-3_n_part-10_n_inputs-1_varDT-False_num_timesteps-10 → model: segno, version: v1\n",
      "gravity_seed-2_n_part-10_n_inputs-1_varDT-False_num_timesteps-10 → model: segno, version: v1\n",
      "gravity_seed-1_n_part-10_n_inputs-1_varDT-False_num_timesteps-10 → model: segno, version: v1\n",
      "charged_seed-3_n_part-20_n_inputs-1_varDT-False_num_timesteps-10 → model: segno, version: v1\n",
      "gravity_seed-3_n_part-5_n_inputs-1_varDT-False_num_timesteps-10 → model: segno, version: v1\n",
      "gravity_seed-3_n_part-20_n_inputs-1_varDT-False_num_timesteps-10 → model: egno, version: v0\n",
      "gravity_seed-2_n_part-20_n_inputs-1_varDT-False_num_timesteps-10 → model: egno, version: v0\n",
      "gravity_seed-1_n_part-20_n_inputs-1_varDT-False_num_timesteps-10 → model: egno, version: v0\n",
      "gravity_seed-3_n_part-10_n_inputs-1_varDT-False_num_timesteps-10 → model: egno, version: v0\n",
      "gravity_seed-2_n_part-10_n_inputs-1_varDT-False_num_timesteps-10 → model: egno, version: v0\n",
      "gravity_seed-1_n_part-10_n_inputs-1_varDT-False_num_timesteps-10 → model: egno, version: v0\n",
      "gravity_seed-3_n_part-5_n_inputs-1_varDT-False_num_timesteps-10 → model: egno, version: v0\n",
      "gravity_seed-2_n_part-5_n_inputs-1_varDT-False_num_timesteps-10 → model: egno, version: v0\n",
      "gravity_seed-1_n_part-5_n_inputs-1_varDT-False_num_timesteps-10 → model: egno, version: v0\n",
      "charged_seed-2_n_part-20_n_inputs-1_varDT-False_num_timesteps-10 → model: egno, version: v0\n",
      "charged_seed-3_n_part-20_n_inputs-1_varDT-False_num_timesteps-10 → model: egno, version: v0\n",
      "charged_seed-1_n_part-20_n_inputs-1_varDT-False_num_timesteps-10 → model: egno, version: v0\n",
      "charged_seed-3_n_part-10_n_inputs-1_varDT-False_num_timesteps-10 → model: egno, version: v0\n",
      "charged_seed-2_n_part-10_n_inputs-1_varDT-False_num_timesteps-10 → model: egno, version: v0\n",
      "charged_seed-1_n_part-10_n_inputs-1_varDT-False_num_timesteps-10 → model: egno, version: v0\n",
      "charged_seed-3_n_part-5_n_inputs-1_varDT-False_num_timesteps-10 → model: egno, version: v0\n",
      "charged_seed-2_n_part-5_n_inputs-1_varDT-False_num_timesteps-10 → model: egno, version: v0\n",
      "charged_seed-1_n_part-5_n_inputs-1_varDT-False_num_timesteps-10 → model: egno, version: v0\n"
     ]
    }
   ],
   "source": [
    "import csv\n",
    "from wandb.apis.public import Api, Run\n",
    "import json\n",
    "from collections import defaultdict\n",
    "\n",
    "api = Api()\n",
    "\n",
    "artifact_map = defaultdict(dict)\n",
    "\n",
    "# Path to your CSV\n",
    "csv_path = \"wandb_export_complete.csv\"\n",
    "\n",
    "with open(csv_path, newline='') as csvfile:\n",
    "    reader = csv.DictReader(csvfile)\n",
    "    \n",
    "    for row in reader:\n",
    "        run_id = row[\"ID\"]  # adjust if your CSV uses a different column name\n",
    "\n",
    "        try:\n",
    "            run = Run(\n",
    "                client=api.client,\n",
    "                entity=\"jet-tagging\",\n",
    "                project=\"Particle-Physics\",\n",
    "                run_id=run_id,\n",
    "                include_sweeps=True,\n",
    "            )\n",
    "\n",
    "            model_type = run.config.get(\"model\", \"UNKNOWN\")\n",
    "\n",
    "            for art in run.logged_artifacts():\n",
    "                if art.name.startswith(\"run\"):\n",
    "                    continue  # Skip input/internal artifacts\n",
    "\n",
    "                name_parts = art.name.split(\":\")\n",
    "                base_name = name_parts[0]\n",
    "                version = name_parts[1] if len(name_parts) > 1 else \"unknown\"\n",
    "\n",
    "                artifact_map[base_name][model_type] = version\n",
    "\n",
    "                print(f\"{base_name} → model: {model_type}, path: {art.name}\")\n",
    "\n",
    "        except Exception as e:\n",
    "            print(f\"Error processing run {run_id}: {e}\")\n",
    "\n",
    "# Optionally, save to JSON\n",
    "with open(\"artifact_model_map_complete.json\", \"w\") as f:\n",
    "    json.dump(artifact_map, f, indent=2)\n"
   ]
  },
  {
   "cell_type": "code",
   "execution_count": 92,
   "id": "84cbc2a7",
   "metadata": {},
   "outputs": [
    {
     "data": {
      "text/plain": [
       "'charged_n_part-5_n_inputs-1_varDT-False_num_timesteps-10'"
      ]
     },
     "execution_count": 92,
     "metadata": {},
     "output_type": "execute_result"
    }
   ],
   "source": [
    "full_name = \"charged_seed-2_n_part-5_n_inputs-1_varDT-False_num_timesteps-10\"\n",
    "modified_name = re.sub(r'_?seed-\\d+', '', full_name)\n",
    "modified_name"
   ]
  }
 ],
 "metadata": {
  "kernelspec": {
   "display_name": "newvenv",
   "language": "python",
   "name": "python3"
  },
  "language_info": {
   "codemirror_mode": {
    "name": "ipython",
    "version": 3
   },
   "file_extension": ".py",
   "mimetype": "text/x-python",
   "name": "python",
   "nbconvert_exporter": "python",
   "pygments_lexer": "ipython3",
   "version": "3.10.5"
  }
 },
 "nbformat": 4,
 "nbformat_minor": 5
}
